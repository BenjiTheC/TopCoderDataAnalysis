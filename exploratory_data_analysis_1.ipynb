{
 "cells": [
  {
   "cell_type": "code",
   "execution_count": null,
   "metadata": {},
   "outputs": [],
   "source": [
    "\"\"\" EDA 2nd round for challenge selecting\"\"\"\n",
    "\n",
    "import os\n",
    "import json\n",
    "from collections import defaultdict\n",
    "\n",
    "import numpy as np\n",
    "import pandas as pd\n",
    "\n",
    "import matplotlib.pyplot as plt\n",
    "import seaborn as sns\n",
    "\n",
    "from tc_main import TopCoder\n",
    "\n",
    "pd.set_option('display.max_rows', 500)"
   ]
  },
  {
   "cell_type": "code",
   "execution_count": null,
   "metadata": {
    "scrolled": false
   },
   "outputs": [],
   "source": [
    "topcoder = TopCoder()"
   ]
  },
  {
   "cell_type": "code",
   "execution_count": null,
   "metadata": {},
   "outputs": [],
   "source": [
    "topcoder.challenge_basic_info.columns"
   ]
  },
  {
   "cell_type": "code",
   "execution_count": null,
   "metadata": {},
   "outputs": [],
   "source": [
    "cr_dev_df = topcoder.get_challenge_req(track='DEVELOP')\n",
    "len(cr_dev_df)"
   ]
  },
  {
   "cell_type": "code",
   "execution_count": null,
   "metadata": {},
   "outputs": [],
   "source": [
    "cr_dev_df.loc[cr_dev_df.index.isin(topcoder.get_handpick_dev_cha_id())]"
   ]
  },
  {
   "cell_type": "code",
   "execution_count": null,
   "metadata": {},
   "outputs": [],
   "source": [
    "cbi_df = topcoder.challenge_basic_info\n",
    "m_index = topcoder.get_challenge_req().index\n",
    "filtered_cbi = cbi_df.loc[cbi_df.index.isin(m_index) & (cbi_df.total_prize > 0) & (cbi_df.total_prize <= 5000)]"
   ]
  },
  {
   "cell_type": "code",
   "execution_count": null,
   "metadata": {
    "scrolled": false
   },
   "outputs": [],
   "source": [
    "selected_track = 'DEVELOP'\n",
    "total_prize = filtered_cbi.reindex(['track', 'subtrack', 'total_prize'], axis=1)\n",
    "subtrack_lst = list(total_prize.loc[total_prize.track == selected_track].subtrack.value_counts().sort_values(ascending=False).index)\n",
    "\n",
    "with sns.axes_style('darkgrid'):\n",
    "    fig = plt.figure(figsize=(15, 4), dpi=200)\n",
    "    ax = fig.add_axes([0.1, 0.1, 0.8, 0.8])\n",
    "    \n",
    "    sns.violinplot(\n",
    "        data=total_prize.loc[(total_prize.track == selected_track)],\n",
    "        y='total_prize',\n",
    "        x='subtrack',\n",
    "        order=subtrack_lst,\n",
    "        width=1.5,\n",
    "        linewidth=1,\n",
    "        ax=ax\n",
    "    )\n",
    "    \n",
    "    ax.set_xticklabels(labels=['\\n'.join([w.capitalize() for w in i.get_text().split('_')]) for i in ax.get_xticklabels()])\n",
    "    ax.set_yticks(list(range(0, 5500, 500)))\n",
    "    "
   ]
  },
  {
   "cell_type": "markdown",
   "metadata": {},
   "source": [
    "- FIRST_2_FINISH: `[0, 600]`\n",
    "- CODE: `[250, 2500]`\n",
    "- ASSEMBLY_COMPETITION: `[750, 2750]`\n",
    "- BUG_HUNT: `[0, 750]`\n",
    "- UI_PROTOTYPE_COMPETITION: `[1250, 2750]`\n",
    "- ARCHITECTURE: `[1500, 3000]`\n",
    "- DEVELOP_MARATHON_MATCH: `[1000, 1750]`\n",
    "- COPILOT_POSTING: `[150, 300]`\n",
    "- TEST_SUITES: `[500, 2000]`\n",
    "- TEST_SCENARIOS: `[500, 2000]`\n",
    "- SPECIFICATION: `[1500, 3000]`\n",
    "- CONTENT_CREATION: `[500, 2000]`\n",
    "- CONCEPTUALIZATION: `[1500, 2000]`"
   ]
  },
  {
   "cell_type": "code",
   "execution_count": null,
   "metadata": {},
   "outputs": [],
   "source": [
    "with sns.axes_style('darkgrid'):\n",
    "    fig = plt.figure(figsize=(4, 4), dpi=200)\n",
    "    ax = fig.add_axes([0.1, 0.1, 0.8, 0.8])\n",
    "    \n",
    "    sns.violinplot(\n",
    "        data=total_prize.loc[total_prize.subtrack == 'ARCHITECTURE'],\n",
    "        y='total_prize',\n",
    "        order=subtrack_lst[:int(0.33 * len(subtrack_lst))],\n",
    "        width=0.618,\n",
    "        linewidth=0.618,\n",
    "        ax=ax\n",
    "    )\n",
    "    \n",
    "    ax.set_xticklabels(labels=[i.get_text() for i in ax.get_xticklabels()], rotation=345, ha='center')\n",
    "    ax.set_yticks(list(range(0, 5500, 500)))\n",
    "    ax.set_yticklabels(labels=list(range(0, 5500, 500)))"
   ]
  },
  {
   "cell_type": "code",
   "execution_count": null,
   "metadata": {
    "scrolled": true
   },
   "outputs": [],
   "source": [
    "selected_track = 'DESIGN'\n",
    "total_prize = filtered_cbi.reindex(['track', 'subtrack', 'total_prize'], axis=1)\n",
    "subtrack_lst = list(total_prize.loc[total_prize.track == selected_track].subtrack.value_counts().sort_values(ascending=False).index)\n",
    "\n",
    "with sns.axes_style('darkgrid'):\n",
    "    fig = plt.figure(figsize=(15, 4), dpi=200)\n",
    "    ax = fig.add_axes([0.1, 0.1, 0.8, 0.8])\n",
    "    \n",
    "    sns.violinplot(\n",
    "        data=total_prize.loc[(total_prize.track == selected_track)],\n",
    "        y='total_prize',\n",
    "        x='subtrack',\n",
    "        order=subtrack_lst,\n",
    "        width=1.5,\n",
    "        linewidth=1,\n",
    "        ax=ax\n",
    "    )\n",
    "    \n",
    "    ax.set_xticklabels(labels=['\\n'.join([w.capitalize() for w in i.get_text().split('_')]) for i in ax.get_xticklabels()])\n",
    "#     ax.set_yticks(list(range(0, 5500, 500)))\n",
    "    "
   ]
  },
  {
   "cell_type": "markdown",
   "metadata": {},
   "source": [
    "- WEB_DESIGNS: `[1000, 3000]`\n",
    "- DESIGN_FIRST_2_FINISH: `[0, 500]`\n",
    "- WIREFRAMES: `[1250, 2500]`\n",
    "- WIDGET_OR_MOBILE_SCREEN_DESIGN: `[800, 3000]`\n",
    "- PRINT_OR_PRESENTATION: `[0, 2200]`\n",
    "- APPLICATION_FRONT_END_DESIGN: `[]`\n",
    "- IDEA_GENERATION: `[]`\n",
    "- BANNERS_OR_ICONS: `[]`\n",
    "- LOGO_DESIGN: `[]`\n",
    "- STUDIO_OTHER: `[]`"
   ]
  },
  {
   "cell_type": "code",
   "execution_count": null,
   "metadata": {},
   "outputs": [],
   "source": [
    "with sns.axes_style('darkgrid'):\n",
    "    fig = plt.figure(figsize=(4, 4), dpi=200)\n",
    "    ax = fig.add_axes([0.1, 0.1, 0.8, 0.8])\n",
    "    \n",
    "    sns.violinplot(\n",
    "        data=total_prize.loc[total_prize.subtrack == 'PRINT_OR_PRESENTATION'],\n",
    "        y='total_prize',\n",
    "        order=subtrack_lst[:int(0.33 * len(subtrack_lst))],\n",
    "        width=0.618,\n",
    "        linewidth=0.618,\n",
    "        ax=ax\n",
    "    )\n",
    "    \n",
    "    ax.set_xticklabels(labels=[i.get_text() for i in ax.get_xticklabels()], rotation=345, ha='center')\n",
    "    ax.set_yticks(list(range(0, 5500, 200)))\n",
    "    ax.set_yticklabels(labels=list(range(0, 5500, 200)))"
   ]
  },
  {
   "cell_type": "code",
   "execution_count": null,
   "metadata": {},
   "outputs": [],
   "source": []
  }
 ],
 "metadata": {
  "kernelspec": {
   "display_name": "Python 3.7.7 64-bit ('venv': venv)",
   "language": "python",
   "name": "python37764bitvenvvenv5b62939097214b20b0ca6487fffe5cee"
  },
  "language_info": {
   "codemirror_mode": {
    "name": "ipython",
    "version": 3
   },
   "file_extension": ".py",
   "mimetype": "text/x-python",
   "name": "python",
   "nbconvert_exporter": "python",
   "pygments_lexer": "ipython3",
   "version": "3.7.7"
  }
 },
 "nbformat": 4,
 "nbformat_minor": 4
}
