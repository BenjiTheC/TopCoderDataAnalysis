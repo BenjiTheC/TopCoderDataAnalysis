{
 "cells": [
  {
   "cell_type": "code",
   "execution_count": null,
   "metadata": {},
   "outputs": [],
   "source": [
    "\"\"\" EDA 2nd round for challenge selecting\"\"\"\n",
    "\n",
    "import os\n",
    "import json\n",
    "from collections import defaultdict\n",
    "\n",
    "import numpy as np\n",
    "import pandas as pd\n",
    "\n",
    "import matplotlib.pyplot as plt\n",
    "import seaborn as sns\n",
    "\n",
    "from gensim.models import KeyedVectors\n",
    "\n",
    "from tc_main import TopCoder\n",
    "\n",
    "pd.set_option('display.max_rows', 500)"
   ]
  },
  {
   "cell_type": "code",
   "execution_count": null,
   "metadata": {},
   "outputs": [],
   "source": [
    "topcoder = TopCoder()"
   ]
  },
  {
   "cell_type": "code",
   "execution_count": null,
   "metadata": {},
   "outputs": [],
   "source": [
    "cbi = topcoder.challenge_basic_info\n",
    "cha_distro = cbi.loc[cbi.project_id != -1].reset_index().groupby(by='project_id').count()['challenge_id'].sort_values()\n",
    "\n",
    "cha_distro_vc = pd.cut(cha_distro, bins=np.arange(0, 220, 10), right=False).value_counts().sort_index()\n"
   ]
  },
  {
   "cell_type": "code",
   "execution_count": null,
   "metadata": {},
   "outputs": [],
   "source": [
    "cha_distro_vc"
   ]
  },
  {
   "cell_type": "code",
   "execution_count": null,
   "metadata": {},
   "outputs": [],
   "source": [
    "\n",
    "with sns.axes_style('darkgrid'):\n",
    "    fig, (ax0, ax1) = plt.subplots(2, 1, figsize=(8.5, 6), dpi=200)\n",
    "    \n",
    "    sns.distplot(cha_distro, bins=22, kde=False, rug=True, ax=ax0)\n",
    "    \n",
    "    ax0.set_title('Number of challenges under one project\\nDistribution - histogram')\n",
    "    ax0.set_ylabel('Frequency')\n",
    "    ax0.set_xlabel('Number of challenges')\n",
    "    \n",
    "    ax0.set_xticks(list(range(10, 220, 10)))\n",
    "    ax0.set_xticklabels(labels=list(range(10, 220, 10)), rotation=315)\n",
    "#     ax0.set_ylim(bottom=0, top=200)\n",
    "    \n",
    "    for hist in ax0.patches:\n",
    "        count = int(hist.get_height())\n",
    "        x = hist.get_x() + hist.get_width() / 2\n",
    "        y = hist.get_height()\n",
    "        if count != 0:\n",
    "            ax0.annotate(\n",
    "                f'{count}', \n",
    "                xy=(x, y), \n",
    "                xytext=(0, 3), \n",
    "                horizontalalignment='center', \n",
    "                verticalalignment='bottom',\n",
    "                textcoords='offset points'\n",
    "            )\n",
    "    \n",
    "#     colors = {'primary': '#E93C4F', 'secondary': '#FFC24A'}\n",
    "    \n",
    "#     meanlineprops = {'linestyle': '--', 'linewidth': 0.5, 'color': colors['secondary']}\n",
    "#     flierprops = {'marker': 'o', 'markerfacecolor': colors['primary'], 'markeredgewidth': 0.5, 'markersize': 2.5}\n",
    "    \n",
    "#     sns.boxplot(\n",
    "#         x=cha_distro,\n",
    "#         showmeans=True,\n",
    "#         meanline=True,\n",
    "        \n",
    "#         color=colors['primary'],\n",
    "#         meanprops=meanlineprops,\n",
    "#         flierprops=flierprops,\n",
    "        \n",
    "#         linewidth=0.8,\n",
    "#         width=0.618,\n",
    "        \n",
    "#         ax=ax1\n",
    "#     )\n",
    "#     ax1.set_xticks(list(range(0, 220, 20)))\n",
    "#     ax1.set_xticklabels(labels=list(range(0, 220, 20)))\n",
    "    \n",
    "    "
   ]
  },
  {
   "cell_type": "code",
   "execution_count": null,
   "metadata": {},
   "outputs": [],
   "source": [
    "filt_cha = topcoder.get_filtered_challenge_basic_info()\n",
    "filt_cha.head()"
   ]
  },
  {
   "cell_type": "code",
   "execution_count": null,
   "metadata": {},
   "outputs": [],
   "source": [
    "cha_req = topcoder.get_challenge_req()\n",
    "cha_req.loc[cha_req.index.isin(topcoder.get_handpick_dev_cha_id())]"
   ]
  },
  {
   "cell_type": "code",
   "execution_count": null,
   "metadata": {},
   "outputs": [],
   "source": [
    "cr_dev_df = topcoder.get_challenge_req(track='DEVELOP')\n",
    "len(cr_dev_df)"
   ]
  },
  {
   "cell_type": "code",
   "execution_count": null,
   "metadata": {},
   "outputs": [],
   "source": [
    "cr_dev_df.loc[cr_dev_df.index.isin(topcoder.get_handpick_dev_cha_id())]"
   ]
  },
  {
   "cell_type": "code",
   "execution_count": null,
   "metadata": {},
   "outputs": [],
   "source": [
    "cbi_df = topcoder.challenge_basic_info\n",
    "m_index = topcoder.get_challenge_req('develop').index\n",
    "filtered_cbi = cbi_df.loc[cbi_df.index.isin(m_index) & (cbi_df.total_prize > 0) & (cbi_df.total_prize <= 5000)]"
   ]
  },
  {
   "cell_type": "code",
   "execution_count": null,
   "metadata": {},
   "outputs": [],
   "source": [
    "total_prize = filtered_cbi.reindex(['track', 'subtrack', 'total_prize'], axis=1)\n",
    "total_prize = total_prize.loc[total_prize.subtrack != 'CONCEPTUALIZATION']\n",
    "subtrack_lst = list(total_prize.subtrack.value_counts().sort_values(ascending=False).index)\n",
    "\n",
    "with sns.axes_style('darkgrid'):\n",
    "    fig = plt.figure(figsize=(16, 5), dpi=200)\n",
    "    ax = fig.add_axes([0.1, 0.2, 0.8, 0.7])\n",
    "    \n",
    "    sns.violinplot(\n",
    "        data=total_prize,\n",
    "        y='total_prize',\n",
    "        x='subtrack',\n",
    "        order=subtrack_lst,\n",
    "        width=1.5,\n",
    "        linewidth=1,\n",
    "        ax=ax\n",
    "    )\n",
    "    \n",
    "    stroke_w = 1 / len(subtrack_lst)\n",
    "    for idx, subtrack in enumerate(subtrack_lst):\n",
    "        y_bottom, y_top = topcoder.develop_challenge_prize_range[subtrack]\n",
    "        xmin = 0.1 * stroke_w + stroke_w * idx\n",
    "        xmax = 0.9 * stroke_w + stroke_w * idx\n",
    "        ax.axhline(y=y_bottom, xmin=xmin, xmax = xmax, color='red')\n",
    "        ax.axhline(y=y_top, xmin=xmin, xmax = xmax, color='red')\n",
    "        \n",
    "#         stat = total_prize.loc[total_prize.subtrack == subtrack].total_prize.describe()\n",
    "#         y_bottom_stat = stat['25%']\n",
    "#         y_top_stat = stat['75%']\n",
    "#         ax.axhline(y=y_bottom_stat, xmin=xmin, xmax = xmax, color='blue')\n",
    "#         ax.axhline(y=y_top_stat, xmin=xmin, xmax = xmax, color='blue')\n",
    "    \n",
    "    ax.set_xticklabels(labels=['\\n'.join([w.capitalize() for w in i.get_text().split('_')]) for i in ax.get_xticklabels()])\n",
    "    ax.set_yticks(list(range(0, 5500, 500)))\n",
    "    \n",
    "    ax.set_xlabel('Sub-track', labelpad=8)\n",
    "    ax.set_ylabel('Total Price')\n",
    "#     ax.set_title('Prize distro by subtrack - DEVELOP track')\n",
    "    \n",
    "#     fig.savefig('img/prize_distribution_by_subtrack', dpi='figure')"
   ]
  },
  {
   "cell_type": "code",
   "execution_count": null,
   "metadata": {},
   "outputs": [],
   "source": [
    "subtrack = topcoder.get_filtered_challenge_basic_info().subtrack.value_counts().sort_values(ascending=False)\n",
    "\n",
    "with sns.axes_style('darkgrid'):\n",
    "    fig = plt.figure(figsize=(16, 5), dpi=200)\n",
    "    ax = fig.add_axes([0.1, 0.2, 0.8, 0.7])\n",
    "    \n",
    "    sns.barplot(\n",
    "        x=subtrack.index,\n",
    "        y=subtrack,\n",
    "        ax=ax\n",
    "    )\n",
    "\n",
    "    ax.set_title('DEVELOP challenges by subtrack')\n",
    "    ax.set_ylabel('Number of Challenges')\n",
    "    ax.set_xticklabels(labels=['\\n'.join([w.capitalize() for w in i.get_text().split('_')]) for i in ax.get_xticklabels()])\n",
    "    for p in ax.patches:\n",
    "        count = int(p.get_height())\n",
    "        x, y = p.get_width() * 0.5 + p.get_x(), p.get_height()\n",
    "        ax.annotate(\n",
    "            f'{count}',\n",
    "            xy=(x, y),\n",
    "            xytext=(0, 3),\n",
    "            ha='center',\n",
    "            va='baseline',\n",
    "            textcoords='offset points'\n",
    "        )\n",
    "#     fig.savefig('img/filtered_dev_cha_by_subtrack.png', dpi='figure')"
   ]
  },
  {
   "cell_type": "code",
   "execution_count": null,
   "metadata": {},
   "outputs": [],
   "source": [
    "total_prize.total_prize.describe().index"
   ]
  },
  {
   "cell_type": "code",
   "execution_count": null,
   "metadata": {},
   "outputs": [],
   "source": [
    "total_prize = filtered_cbi.reindex(['track', 'subtrack', 'total_prize'], axis=1)\n",
    "subtrack_lst = list(total_prize.subtrack.value_counts().sort_values(ascending=False).index)\n",
    "\n",
    "with sns.axes_style('darkgrid'):\n",
    "    fig = plt.figure(figsize=(8, 4), dpi=200)\n",
    "    ax = fig.add_axes([0.1, 0.1, 0.8, 0.8])\n",
    "    \n",
    "    sns.violinplot(\n",
    "        data=total_prize.loc[total_prize.subtrack.isin(subtrack_lst[:5])],\n",
    "        y='total_prize',\n",
    "        x='subtrack',\n",
    "        order=subtrack_lst[:5],\n",
    "        width=0.9,\n",
    "        linewidth=1,\n",
    "        ax=ax\n",
    "    )\n",
    "    \n",
    "    ax.set_xticklabels(labels=['\\n'.join([w.capitalize() for w in i.get_text().split('_')]) for i in ax.get_xticklabels()])\n",
    "    ax.set_yticks(list(range(0, 5500, 500)))\n",
    "    \n",
    "    ax.set_xlabel('Subtrack', labelpad=8)\n",
    "    ax.set_ylabel('Total Prize')\n",
    "    ax.set_title('Prize distro by subtrack - DEVELOP track')\n",
    "    \n",
    "    for idx, subtrack in enumerate(subtrack_lst[:5]):\n",
    "        y_bottom, y_top = topcoder.develop_challenge_prize_range[subtrack]\n",
    "        ax.axhline(y=y_bottom, xmin=0.02 + 0.2 * idx, xmax = 0.18 + 0.2 * idx, color='red')\n",
    "        ax.axhline(y=y_top, xmin=0.02 + 0.2 * idx, xmax = 0.18 + 0.2 * idx, color='red')\n",
    "        \n",
    "# fig.savefig(os.path.join(os.pardir, os.pardir, 'presentation', 'presentation1', 'prz_distro_dev_t5.png'), dpi='figure')\n",
    "    "
   ]
  },
  {
   "cell_type": "markdown",
   "metadata": {},
   "source": [
    "- FIRST_2_FINISH: `[0, 600]`\n",
    "- CODE: `[250, 2500]`\n",
    "- ASSEMBLY_COMPETITION: `[750, 2750]`\n",
    "- BUG_HUNT: `[0, 750]`\n",
    "- UI_PROTOTYPE_COMPETITION: `[1250, 2750]`\n",
    "- ARCHITECTURE: `[1500, 3000]`\n",
    "- DEVELOP_MARATHON_MATCH: `[1000, 1750]`\n",
    "- COPILOT_POSTING: `[150, 300]`\n",
    "- TEST_SUITES: `[500, 2000]`\n",
    "- TEST_SCENARIOS: `[500, 2000]`\n",
    "- SPECIFICATION: `[1500, 3000]`\n",
    "- CONTENT_CREATION: `[500, 2000]`\n",
    "- CONCEPTUALIZATION: `[1500, 2000]`"
   ]
  },
  {
   "cell_type": "code",
   "execution_count": null,
   "metadata": {},
   "outputs": [],
   "source": [
    "with sns.axes_style('darkgrid'):\n",
    "    fig = plt.figure(figsize=(4, 4), dpi=200)\n",
    "    ax = fig.add_axes([0.1, 0.1, 0.8, 0.8])\n",
    "    \n",
    "    sns.violinplot(\n",
    "        data=total_prize.loc[total_prize.subtrack == 'ARCHITECTURE'],\n",
    "        y='total_prize',\n",
    "        order=subtrack_lst[:int(0.33 * len(subtrack_lst))],\n",
    "        width=0.618,\n",
    "        linewidth=0.618,\n",
    "        ax=ax\n",
    "    )\n",
    "    \n",
    "    ax.set_xticklabels(labels=[i.get_text() for i in ax.get_xticklabels()], rotation=345, ha='center')\n",
    "    ax.set_yticks(list(range(0, 5500, 500)))\n",
    "    ax.set_yticklabels(labels=list(range(0, 5500, 500)))"
   ]
  },
  {
   "cell_type": "code",
   "execution_count": null,
   "metadata": {},
   "outputs": [],
   "source": []
  }
 ],
 "metadata": {
  "kernelspec": {
   "display_name": "Python (Data Analysis)",
   "language": "python",
   "name": "data_analysis"
  },
  "language_info": {
   "codemirror_mode": {
    "name": "ipython",
    "version": 3
   },
   "file_extension": ".py",
   "mimetype": "text/x-python",
   "name": "python",
   "nbconvert_exporter": "python",
   "pygments_lexer": "ipython3",
   "version": "3.7.9"
  }
 },
 "nbformat": 4,
 "nbformat_minor": 4
}
