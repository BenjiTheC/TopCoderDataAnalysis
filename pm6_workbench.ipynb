{
 "cells": [
  {
   "cell_type": "code",
   "execution_count": null,
   "metadata": {
    "scrolled": true
   },
   "outputs": [],
   "source": [
    "\"\"\" This notebook is for all the experiments of machine learning\"\"\"\n",
    "import os\n",
    "import json\n",
    "from datetime import datetime\n",
    "\n",
    "import pandas as pd\n",
    "import numpy as np\n",
    "import matplotlib.pyplot as plt\n",
    "import seaborn as sns\n",
    "\n",
    "from sklearn.datasets import make_classification\n",
    "from sklearn.linear_model import LinearRegression, Ridge, Lasso, ElasticNet, BayesianRidge\n",
    "from sklearn.svm import SVR\n",
    "from sklearn.gaussian_process import GaussianProcessRegressor\n",
    "from sklearn.isotonic import IsotonicRegression\n",
    "from sklearn.tree import DecisionTreeRegressor\n",
    "from sklearn.ensemble import RandomForestRegressor, AdaBoostRegressor\n",
    "from sklearn.neighbors import KNeighborsRegressor\n",
    "from sklearn.model_selection import cross_val_predict, cross_val_score, KFold\n",
    "\n",
    "\n",
    "from imblearn.under_sampling import ClusterCentroids, RandomUnderSampler, TomekLinks, NearMiss\n",
    "from imblearn.over_sampling import SMOTE, ADASYN, RandomOverSampler\n",
    "\n",
    "from pm_builder_6 import FILT_CHA_INFO, extract_abs_metadata, get_Xy"
   ]
  },
  {
   "cell_type": "code",
   "execution_count": null,
   "metadata": {},
   "outputs": [],
   "source": [
    "regression_fam = {\n",
    "    'LinearRegression': 'linear',\n",
    "    'Ridge': 'linear',\n",
    "    'Lasso': 'linear',\n",
    "    'ElasticNet': 'linear',\n",
    "    'BayesianRidge': 'linear',\n",
    "    'SVR': 'SVM',\n",
    "    'GaussianProcessRegressor': 'gaussian_process',\n",
    "    'DecisionTreeRegressor': 'tree',\n",
    "    'RandomForestRegressor': 'ensemble',\n",
    "    'AdaBoostRegressor': 'ensemble',\n",
    "    'KNeighborsRegressor': 'neighbors'\n",
    "}\n",
    "regression_fam_sr = pd.Series(regression_fam)\n",
    "\n",
    "def train_lst_of_model(X, y):\n",
    "    \"\"\" Train and evaluate multiple models in order with given input X, y\"\"\"\n",
    "    model_lst = [\n",
    "        LinearRegression,\n",
    "        Ridge,\n",
    "        Lasso,\n",
    "        ElasticNet,\n",
    "        BayesianRidge,\n",
    "        SVR,\n",
    "        GaussianProcessRegressor,\n",
    "        DecisionTreeRegressor,\n",
    "        RandomForestRegressor,\n",
    "        AdaBoostRegressor,\n",
    "        KNeighborsRegressor\n",
    "    ]\n",
    "    \n",
    "    pred_dct = {}\n",
    "    for regressor in model_lst:\n",
    "        reg = regressor()\n",
    "        y_pred = cross_val_predict(reg, X.to_numpy(), y.to_numpy(), cv=10)\n",
    "        \n",
    "        result_df = pd.concat([y, pd.Series(y_pred, index=y.index)], axis=1)\n",
    "        result_df.columns = ['actual', 'estimate']\n",
    "        \n",
    "        pred_dct[regressor.__name__] = ((result_df['actual'] - result_df['estimate']).abs() / result_df['actual']).mean()\n",
    "        print(f'{regressor.__name__}: {pred_dct[regressor.__name__]}')\n",
    "        \n",
    "    return pd.Series(pred_dct)"
   ]
  },
  {
   "cell_type": "code",
   "execution_count": null,
   "metadata": {},
   "outputs": [],
   "source": [
    "X, y = get_Xy()"
   ]
  },
  {
   "cell_type": "code",
   "execution_count": null,
   "metadata": {},
   "outputs": [],
   "source": [
    "f2fcode_cha = FILT_CHA_INFO.loc[FILT_CHA_INFO.subtrack.isin(['FIRST_2_FINISH', 'CODE'])]\n",
    "X_fc, y_fc = X.loc[X.index.isin(f2fcode_cha.index)], y.loc[y.index.isin(f2fcode_cha.index)]"
   ]
  },
  {
   "cell_type": "code",
   "execution_count": null,
   "metadata": {
    "scrolled": false
   },
   "outputs": [],
   "source": [
    "reg_res_all = train_lst_of_model(X, y)\n",
    "reg_res_fc = train_lst_of_model(X_fc, y_fc)"
   ]
  },
  {
   "cell_type": "code",
   "execution_count": null,
   "metadata": {},
   "outputs": [],
   "source": [
    "result_df = pd.concat([\n",
    "    pd.DataFrame({'MMRE': reg_res_all, 'reg_fam': regression_fam_sr, 'data': ['all'] * len(reg_res_all)}),\n",
    "    pd.DataFrame({'MMRE': reg_res_fc, 'reg_fam': regression_fam_sr, 'data': ['fc'] * len(reg_res_fc)})\n",
    "]).reset_index().rename(columns={'index': 'regressor'})\n"
   ]
  },
  {
   "cell_type": "code",
   "execution_count": null,
   "metadata": {},
   "outputs": [],
   "source": [
    "with sns.axes_style('ticks'):\n",
    "    fig = plt.figure(figsize=(8, 4), dpi=200)\n",
    "    ax = fig.add_axes([0.1, 0.25, 0.8, 0.5])\n",
    "\n",
    "    sns.despine(ax=ax)\n",
    "    sns.scatterplot(\n",
    "        data=result_df,\n",
    "        x='regressor',\n",
    "        y='MMRE',\n",
    "        hue='data',\n",
    "        style='data',\n",
    "        ax=ax\n",
    "    )\n",
    "    \n",
    "    ax.set_title('Prediction Accuracy of Different Regression Model')\n",
    "    ax.set_xlabel('Regressor Name')\n",
    "\n",
    "    xticklabels = [\n",
    "        'Linear\\nRegression',\n",
    "        'Ridge',\n",
    "        'Lasso', \n",
    "        'Elastic\\nNet',\n",
    "        'Bayesian\\nRidge',\n",
    "        'SVR',\n",
    "        'GaussianProcess\\nRegressor',\n",
    "        'DecisionTree\\nRegressor',\n",
    "        'RandomForest\\nRegressor',\n",
    "        'AdaBoost\\nRegressor',\n",
    "        'KNeighbors\\nRegressor'\n",
    "    ]\n",
    "    ax.set_xticklabels(labels=xticklabels, rotation=330, ha='left', rotation_mode='anchor', fontdict={'fontSize': 8})\n",
    "    ax.set_yticks(list(range(1, 9)))\n",
    "    ax.set_yticklabels(labels=list(range(1, 9)), fontdict={'fontSize': 10})\n",
    "    \n",
    "    for _, reg, mmre in result_df.reindex(['regressor', 'MMRE'], axis=1).itertuples():\n",
    "        ax.text(\n",
    "            x=list(result_df.loc[result_df.data == 'all']['regressor']).index(reg),\n",
    "            y=mmre + 0.2,\n",
    "            s=round(mmre, 2),\n",
    "            ha='left',\n",
    "            va='baseline',\n",
    "            fontdict={'size': 8}\n",
    "        )\n",
    "\n",
    "    handles, labels = ax.get_legend_handles_labels()\n",
    "    ax.legend(handles, ['Training Data', 'All subtrack', 'F2F & CODE'], prop={'size': 6})\n",
    "        \n",
    "fig.savefig('img/regression_models_accuracy.png', dpi='figure')"
   ]
  },
  {
   "cell_type": "code",
   "execution_count": null,
   "metadata": {},
   "outputs": [],
   "source": [
    "# PM6\n",
    "brf_estimation = pd.read_json('pricing_model_6/round1_res/brf/prz_estimation.json')\n",
    "rus_estimation = pd.read_json('pricing_model_6/round1_res/rus/prz_estimation.json')"
   ]
  },
  {
   "cell_type": "code",
   "execution_count": null,
   "metadata": {},
   "outputs": [],
   "source": [
    "((brf_estimation['actual'] - brf_estimation['median']).abs() / brf_estimation['actual']).mean()"
   ]
  },
  {
   "cell_type": "code",
   "execution_count": null,
   "metadata": {},
   "outputs": [],
   "source": [
    "((rus_estimation['actual'] - rus_estimation['median']).abs() / rus_estimation['actual']).mean()"
   ]
  },
  {
   "cell_type": "code",
   "execution_count": null,
   "metadata": {},
   "outputs": [],
   "source": [
    "with sns.axes_style('darkgrid'):\n",
    "    fig = plt.figure(figsize=(4, 3), dpi=200)\n",
    "    ax = fig.add_axes([0.15, 0.15, 0.7, 0.7])\n",
    "    \n",
    "    sns.scatterplot(\n",
    "        x = [1, 3],\n",
    "        y = [1.1893620144762707, 1.0917988368303686],\n",
    "        ax=ax\n",
    "    )\n",
    "    ax.set_ylim(bottom=0.9, top=1.3)\n",
    "    ax.set_xlim(left=0, right=4)\n",
    "    ax.set_xticks([1, 3])\n",
    "    ax.set_xticklabels(labels=['Balanced\\nRandom Forest', 'Random\\nUnder Sampler'])\n",
    "    ax.set_title('Pairing Challenges Imbalanced Learning')\n",
    "    ax.set_ylabel('MMRE')\n",
    "\n",
    "    ax.text(\n",
    "        x=1,\n",
    "        y=1.1893620144762707 + 0.01,\n",
    "        s=round(1.1893620144762707, 2),\n",
    "        ha='left',\n",
    "        va='baseline',\n",
    "        fontdict={'size': 8}\n",
    "    )\n",
    "    \n",
    "    ax.text(\n",
    "        x=3,\n",
    "        y=1.0917988368303686 + 0.01,\n",
    "        s=round(1.0917988368303686, 2),\n",
    "        ha='left',\n",
    "        va='baseline',\n",
    "        fontdict={'size': 8}\n",
    "    )\n",
    "    fig.savefig('img/pairing_cha_model_mmre.png', dpi='figure')"
   ]
  },
  {
   "cell_type": "code",
   "execution_count": null,
   "metadata": {},
   "outputs": [],
   "source": [
    "brf_feature_importance_df = pd.concat([pd.read_json(f'pricing_model_6/round1_res/brf/feature_importance_{i}.json', typ='series') for i in range(10)], axis=1)\n",
    "brf_feature_importance = brf_feature_importance_df.mean(axis=1)"
   ]
  },
  {
   "cell_type": "code",
   "execution_count": null,
   "metadata": {},
   "outputs": [],
   "source": [
    "brf_feature_importance.apply(lambda i: round(i, 3)).sort_values().tail(5).index"
   ]
  },
  {
   "cell_type": "code",
   "execution_count": null,
   "metadata": {},
   "outputs": [],
   "source": [
    "rus_feature_importance_df = pd.concat([pd.read_json(f'pricing_model_6/round1_res/rus/feature_importance_{i}.json', typ='series') for i in range(10)], axis=1)\n",
    "rus_feature_importance = rus_feature_importance_df.mean(axis=1)"
   ]
  },
  {
   "cell_type": "code",
   "execution_count": null,
   "metadata": {},
   "outputs": [],
   "source": [
    "with sns.axes_style('darkgrid'):\n",
    "#     fig, (ax_rus, ax_brf) = plt.subplots(2, 1, figsize=(8, 4), dpi=200)\n",
    "    fig = plt.figure(figsize=(8, 4), dpi=200)\n",
    "    ax = fig.add_axes([0.05, 0.15, 0.9, 0.7])\n",
    "    \n",
    "    sns.barplot(x=rus_feature_importance.index, y=rus_feature_importance, ax=ax, linewidth=0)\n",
    "    \n",
    "#     sns.barplot(x=brf_feature_importance.index, y=brf_feature_importance, ax=ax_brf, linewidth=0)\n",
    "    \n",
    "    ax.set_xticklabels(\n",
    "        labels=[i if i in brf_feature_importance.sort_values().tail(10).index else '' for i in range(73)], \n",
    "        rotation=330, \n",
    "        ha='right', \n",
    "        rotation_mode='anchor', \n",
    "        fontdict={'fontSize': 8}\n",
    "    )\n",
    "    \n",
    "    \n",
    "    "
   ]
  },
  {
   "cell_type": "code",
   "execution_count": null,
   "metadata": {},
   "outputs": [],
   "source": []
  }
 ],
 "metadata": {
  "kernelspec": {
   "display_name": "Python (Data Analysis)",
   "language": "python",
   "name": "data_analysis"
  },
  "language_info": {
   "codemirror_mode": {
    "name": "ipython",
    "version": 3
   },
   "file_extension": ".py",
   "mimetype": "text/x-python",
   "name": "python",
   "nbconvert_exporter": "python",
   "pygments_lexer": "ipython3",
   "version": "3.7.8"
  }
 },
 "nbformat": 4,
 "nbformat_minor": 4
}