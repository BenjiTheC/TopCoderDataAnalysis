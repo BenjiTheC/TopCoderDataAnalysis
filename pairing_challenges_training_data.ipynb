{
 "cells": [
  {
   "cell_type": "code",
   "execution_count": null,
   "metadata": {},
   "outputs": [],
   "source": [
    "\"\"\" Experiment script for pairing develop challenges\"\"\"\n",
    "import os\n",
    "import json\n",
    "import itertools\n",
    "import random\n",
    "from collections import defaultdict\n",
    "\n",
    "import numpy as np\n",
    "import pandas as pd\n",
    "\n",
    "import matplotlib.pyplot as plt\n",
    "import seaborn as sns\n",
    "\n",
    "from tc_main import TopCoder\n",
    "from doc_pair_training_data import TOPCODER, FILTERED_CHALLENGE_INFO\n",
    "\n",
    "pd.set_option('display.max_rows', 500)"
   ]
  },
  {
   "cell_type": "code",
   "execution_count": null,
   "metadata": {},
   "outputs": [],
   "source": [
    "[tuple(sorted(comb)) for comb in itertools.combinations_with_replacement(FILTERED_CHALLENGE_INFO.subtrack.unique(), 2)]"
   ]
  },
  {
   "cell_type": "code",
   "execution_count": null,
   "metadata": {},
   "outputs": [],
   "source": [
    "\n",
    "with open(os.path.join(os.curdir, 'data', 'tech_by_challenge.json')) as f:\n",
    "    tech_by_cha = json.load(f)\n"
   ]
  },
  {
   "cell_type": "code",
   "execution_count": null,
   "metadata": {},
   "outputs": [],
   "source": [
    "tech_count = defaultdict(int)\n",
    "for cha in tech_by_cha:\n",
    "    if cha['challenge_id'] in FILTERED_CHALLENGE_INFO.index:\n",
    "        for tech in cha['tech_lst']:\n",
    "            if 'angular' in tech.lower():\n",
    "                tech_count['angularjs'] += 1\n",
    "            else:\n",
    "                tech_count[tech.lower()] += 1"
   ]
  },
  {
   "cell_type": "code",
   "execution_count": null,
   "metadata": {},
   "outputs": [],
   "source": [
    "tech_count_df = pd.Series(tech_count).sort_values(ascending=False).to_frame().reset_index()\n",
    "tech_count_df.columns = ['tech_name', 'tech_count']"
   ]
  },
  {
   "cell_type": "code",
   "execution_count": null,
   "metadata": {},
   "outputs": [],
   "source": [
    "with sns.axes_style('dark'):\n",
    "    fig = plt.figure(figsize=(11.5, 8), dpi=200)\n",
    "    ax = fig.add_axes([0.1, 0.1, 0.8, 0.8])\n",
    "    \n",
    "    sns.barplot(\n",
    "        data=tech_count_df.head(30),\n",
    "        x='tech_count',\n",
    "        y='tech_name',\n",
    "        ax=ax\n",
    "    )\n",
    "    \n",
    "    ax.set_xlabel('Frequency of technology keyword appearance')\n",
    "    ax.set_ylabel('Technology')\n",
    "    ax.set_title('Top 30 most popular technologies in selected challenges')\n",
    "    \n",
    "    for p in ax.patches:\n",
    "        count = int(p.get_width())\n",
    "        x = p.get_width()\n",
    "        y = p.get_height() * 0.5 + p.get_y()\n",
    "        ax.annotate(\n",
    "            f'{count}',\n",
    "            xy=(x, y),\n",
    "            xytext=(3, 0),\n",
    "            ha='left',\n",
    "            va='center',\n",
    "            textcoords='offset points'\n",
    "        )"
   ]
  },
  {
   "cell_type": "code",
   "execution_count": null,
   "metadata": {},
   "outputs": [],
   "source": [
    "gigantic_df = pd.concat([pd.read_json(f'pricing_model_6/training_data/meta_data_diff_{i}.json', orient='records') for i in range(1, 163)], ignore_index=True).set_index(['l0', 'l1'])"
   ]
  },
  {
   "cell_type": "code",
   "execution_count": null,
   "metadata": {},
   "outputs": [],
   "source": [
    "gigantic_df.describe().loc[['mean', 'std', 'min', '25%', '50%', '75%', 'max']]"
   ]
  },
  {
   "cell_type": "code",
   "execution_count": null,
   "metadata": {},
   "outputs": [],
   "source": []
  }
 ],
 "metadata": {
  "kernelspec": {
   "display_name": "Python 3.7.7 64-bit ('venv': venv)",
   "language": "python",
   "name": "python37764bitvenvvenv5b62939097214b20b0ca6487fffe5cee"
  },
  "language_info": {
   "codemirror_mode": {
    "name": "ipython",
    "version": 3
   },
   "file_extension": ".py",
   "mimetype": "text/x-python",
   "name": "python",
   "nbconvert_exporter": "python",
   "pygments_lexer": "ipython3",
   "version": "3.7.7"
  }
 },
 "nbformat": 4,
 "nbformat_minor": 4
}
