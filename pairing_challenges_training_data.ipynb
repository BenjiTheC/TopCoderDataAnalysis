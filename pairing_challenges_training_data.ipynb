{
 "cells": [
  {
   "cell_type": "code",
   "execution_count": null,
   "metadata": {},
   "outputs": [],
   "source": [
    "\"\"\" Experiment script for pairing develop challenges\"\"\"\n",
    "import os\n",
    "import json\n",
    "import itertools\n",
    "import random\n",
    "from math import gcd\n",
    "from collections import defaultdict\n",
    "\n",
    "import numpy as np\n",
    "import pandas as pd\n",
    "\n",
    "import matplotlib.pyplot as plt\n",
    "import seaborn as sns\n",
    "\n",
    "# from tc_main import TopCoder\n",
    "from doc_pair_training_data import CHALLENGE_ID_COMBINATION, DATA_PATH, TOPCODER, FILTERED_CHALLENGE_INFO, SUBTRACK_COMB, TECH_COMB, SUBTRACK_DEDUCTED_COMB, TECH_CAT_COMB, render_vector\n",
    "\n",
    "pd.set_option('display.max_rows', 500)\n",
    "pd.set_option('display.float_format', lambda x: '%.3f' % x)"
   ]
  },
  {
   "cell_type": "code",
   "execution_count": null,
   "metadata": {},
   "outputs": [],
   "source": [
    "subtrack_sr = FILTERED_CHALLENGE_INFO.subtrack.copy()"
   ]
  },
  {
   "cell_type": "code",
   "execution_count": null,
   "metadata": {},
   "outputs": [],
   "source": [
    "subtrack_dct = {sub: code for code, sub in enumerate(FILTERED_CHALLENGE_INFO.subtrack.unique())}\n",
    "subtrack_dct"
   ]
  },
  {
   "cell_type": "code",
   "execution_count": null,
   "metadata": {},
   "outputs": [],
   "source": [
    "FILTERED_CHALLENGE_INFO.subtrack.apply(lambda st: subtrack_dct[st]).value_counts()"
   ]
  },
  {
   "cell_type": "code",
   "execution_count": null,
   "metadata": {},
   "outputs": [],
   "source": [
    "top5_sub_track = list(subtrack_sr.value_counts().sort_values(ascending=False).head(5).index)"
   ]
  },
  {
   "cell_type": "code",
   "execution_count": null,
   "metadata": {},
   "outputs": [],
   "source": [
    "with open(os.path.join(os.curdir, 'data', 'tech_by_challenge.json')) as f:\n",
    "    tech_by_cha = json.load(f)\n",
    "\n",
    "tech_count = defaultdict(int)\n",
    "for cha in tech_by_cha:\n",
    "    if cha['challenge_id'] in FILTERED_CHALLENGE_INFO.index:\n",
    "        for tech in cha['tech_lst']:\n",
    "            if 'angular' in tech.lower():\n",
    "                tech_count['angularjs'] += 1\n",
    "            else:\n",
    "                tech_count[tech.lower()] += 1"
   ]
  },
  {
   "cell_type": "code",
   "execution_count": null,
   "metadata": {},
   "outputs": [],
   "source": [
    "tech_count_df = pd.Series(tech_count).sort_values(ascending=False).to_frame().reset_index()\n",
    "tech_count_df.columns = ['tech_name', 'tech_count']\n",
    "tech_count_df = tech_count_df.loc[tech_count_df['tech_name'] != 'other']"
   ]
  },
  {
   "cell_type": "code",
   "execution_count": null,
   "metadata": {},
   "outputs": [],
   "source": [
    "tech_count_df.head(30)"
   ]
  },
  {
   "cell_type": "code",
   "execution_count": null,
   "metadata": {},
   "outputs": [],
   "source": [
    "front_end = ('javascript', 'angularjs', 'css', 'html', 'reactjs', 'html5', 'jquery', 'swift', 'bootstrap', 'jsp', 'ajax')\n",
    "back_end = ('node.js', 'java', 'swift', 'c#', 'spring', 'apex', 'python')\n",
    "database = ('postgresql', 'mongodb', 'sql', 'sql server')\n",
    "framework_library = ('angularjs', 'reactjs', '.net', 'jquery', 'spring', 'bootstrap', 'jsp')\n",
    "programming_language = ('javascript', 'java', 'swift', 'c#', 'apex', 'python')\n",
    "other = ('ios', 'android', 'docker', 'rest', 'api', 'elasticsearch', 'qa', 'other')"
   ]
  },
  {
   "cell_type": "code",
   "execution_count": null,
   "metadata": {},
   "outputs": [],
   "source": [
    "with sns.axes_style('dark'):\n",
    "    fig = plt.figure(figsize=(11.5, 8), dpi=200)\n",
    "    ax = fig.add_axes([0.1, 0.1, 0.8, 0.8])\n",
    "    \n",
    "    sns.barplot(\n",
    "        data=tech_count_df.head(30),\n",
    "        x='tech_count',\n",
    "        y='tech_name',\n",
    "        ax=ax\n",
    "    )\n",
    "    \n",
    "    ax.set_xlabel('Frequency of technology keyword appearance')\n",
    "    ax.set_ylabel('Technology')\n",
    "    ax.set_title('Top 30 most popular technologies in selected challenges')\n",
    "    \n",
    "    for p in ax.patches:\n",
    "        count = int(p.get_width())\n",
    "        x = p.get_width()\n",
    "        y = p.get_height() * 0.5 + p.get_y()\n",
    "        ax.annotate(\n",
    "            f'{count}',\n",
    "            xy=(x, y),\n",
    "            xytext=(3, 0),\n",
    "            ha='left',\n",
    "            va='center',\n",
    "            textcoords='offset points'\n",
    "        )"
   ]
  },
  {
   "cell_type": "code",
   "execution_count": null,
   "metadata": {},
   "outputs": [],
   "source": [
    "TOPCODER.get_tech_popularity().head(30)"
   ]
  },
  {
   "cell_type": "code",
   "execution_count": null,
   "metadata": {},
   "outputs": [],
   "source": [
    "TECH_CAT_DCT = {\n",
    "    'frontend': ('javascript', 'angularjs', 'css', 'html', 'reactjs', 'html5', 'jquery', 'swift', 'bootstrap', 'jsp', 'ajax'),\n",
    "    'backend': ('node.js', 'java', 'swift', 'c#', 'spring', 'apex', 'python'),\n",
    "    'database': ('postgresql', 'mongodb', 'sql', 'sql server'),\n",
    "    'framework': ('angularjs', 'reactjs', '.net', 'jquery', 'spring', 'bootstrap', 'jsp'),\n",
    "    'language': ('javascript', 'java', 'swift', 'c#', 'apex', 'python'),\n",
    "    'other': ('ios', 'android', 'docker', 'rest', 'api', 'elasticsearch', 'qa', 'other')\n",
    "}"
   ]
  },
  {
   "cell_type": "code",
   "execution_count": null,
   "metadata": {},
   "outputs": [],
   "source": [
    "TECH_CAT_COMB"
   ]
  },
  {
   "cell_type": "markdown",
   "metadata": {},
   "source": [
    "- categorize by workload\n",
    "- data stat"
   ]
  },
  {
   "cell_type": "code",
   "execution_count": null,
   "metadata": {},
   "outputs": [],
   "source": [
    "tech_cat_count = {tuple(comb) if type(comb) is list else comb: 0 for comb in TECH_CAT_COMB}\n",
    "# print(tech_cat_count)\n",
    "for i in range(1, 163):\n",
    "    with open(f'pricing_model_6/training_data/tech_cat_comb_{i}.json') as f:\n",
    "        print(f'.', end='', flush=True)\n",
    "        for cha in json.load(f):\n",
    "            for tech_comb_idx in cha['comb_idx_lst']:\n",
    "                k = TECH_CAT_COMB[tech_comb_idx]\n",
    "                tech_cat_count[tuple(k) if type(k) is list else k] += 1"
   ]
  },
  {
   "cell_type": "code",
   "execution_count": null,
   "metadata": {},
   "outputs": [],
   "source": [
    "tech_cat_sr = pd.Series({' | '.join(k) if isinstance(k, tuple) else k: v for k, v in tech_cat_count.items()}).sort_values(ascending=False)"
   ]
  },
  {
   "cell_type": "code",
   "execution_count": null,
   "metadata": {
    "scrolled": false
   },
   "outputs": [],
   "source": [
    "with sns.axes_style('dark'):\n",
    "    fig = plt.figure(figsize=(11.5, 8), dpi=200)\n",
    "    ax = fig.add_axes([0.1, 0.1, 0.8, 0.8])\n",
    "    \n",
    "    sns.barplot(\n",
    "        x=tech_cat_sr,\n",
    "        y=tech_cat_sr.index,\n",
    "        ax=ax\n",
    "    )\n",
    "    \n",
    "    ax.set_xlabel('Frequency of technology keyword appearance')\n",
    "    ax.set_ylabel('Technology')\n",
    "    ax.set_title('Top 30 most popular technologies in selected challenges')\n",
    "    \n",
    "    for p in ax.patches:\n",
    "        count = int(p.get_width())\n",
    "        x = p.get_width()\n",
    "        y = p.get_height() * 0.5 + p.get_y()\n",
    "        ax.annotate(\n",
    "            f'{count}',\n",
    "            xy=(x, y),\n",
    "            xytext=(3, 0),\n",
    "            ha='left',\n",
    "            va='center',\n",
    "            textcoords='offset points'\n",
    "        )"
   ]
  },
  {
   "cell_type": "code",
   "execution_count": null,
   "metadata": {},
   "outputs": [],
   "source": [
    "# gigantic_md_df = pd.concat([pd.read_json(f'pricing_model_6/training_data/meta_data_diff_{i}.json', orient='records').set_index(['l0', 'l1']) for i in range(1, 163)])\n"
   ]
  },
  {
   "cell_type": "code",
   "execution_count": null,
   "metadata": {},
   "outputs": [],
   "source": [
    "# (gigantic_md_df['prz_diff'] < 20).astype(int).value_counts()"
   ]
  },
  {
   "cell_type": "code",
   "execution_count": null,
   "metadata": {},
   "outputs": [],
   "source": [
    "# gigantic_md_df#.dura_diff.value_counts().sort_index()"
   ]
  },
  {
   "cell_type": "markdown",
   "metadata": {},
   "source": [
    "### Pairing challenges\n",
    "1. Decrease theshold\n",
    "2. Sample down the training data - **SMOTE**\n",
    "3. Add one more dimension -> same project: 1, cross project: 0\n",
    "\n",
    "### Single instance - RF REGRESSION\n",
    "- abosulute data values -> prize\n",
    "- pick F2F & CODE out for training\n",
    "\n"
   ]
  },
  {
   "cell_type": "code",
   "execution_count": null,
   "metadata": {},
   "outputs": [],
   "source": [
    "y = pd.concat([pd.read_json(f'pricing_model_6/round1/y_{i}.json', orient='records') for i in range(1, 163)]).set_index(['l0', 'l1'])\n"
   ]
  },
  {
   "cell_type": "code",
   "execution_count": null,
   "metadata": {},
   "outputs": [],
   "source": [
    "X = pd.concat([pd.read_json(f'pricing_model_6/round1/X_{i}.json', orient='records') for i in range(1, 163)]).set_index(['l0', 'l1'])"
   ]
  },
  {
   "cell_type": "code",
   "execution_count": null,
   "metadata": {},
   "outputs": [],
   "source": [
    "y = pd.read_json('pricing_model_6/y_gigantic.json', orient='records').set_index(['l0', 'l1'])\n"
   ]
  },
  {
   "cell_type": "code",
   "execution_count": null,
   "metadata": {
    "scrolled": false
   },
   "outputs": [],
   "source": [
    "cha_id_sr = pd.Series(FILTERED_CHALLENGE_INFO.index)\n",
    "sp = np.array_split(cha_id_sr.sample(frac=1, random_state=0), 10)\n",
    "split_idx_lst = [sr.to_list() for sr in sp]"
   ]
  },
  {
   "cell_type": "code",
   "execution_count": null,
   "metadata": {},
   "outputs": [],
   "source": [
    "test_cha_id = split_idx_lst[5]\n",
    "y_train = y.loc[~y.index.get_level_values(0).isin(test_cha_id) & ~y.index.get_level_values(1).isin(test_cha_id)]"
   ]
  },
  {
   "cell_type": "code",
   "execution_count": null,
   "metadata": {},
   "outputs": [],
   "source": [
    "y_test = y.loc[\n",
    "    (\n",
    "        y.index.get_level_values(0).isin(test_cha_id) | \\\n",
    "        y.index.get_level_values(1).isin(test_cha_id)\n",
    "    ) & ~(\n",
    "        y.index.get_level_values(0).isin(test_cha_id) &\n",
    "        y.index.get_level_values(1).isin(test_cha_id)\n",
    "    )\n",
    "]"
   ]
  }
 ],
 "metadata": {
  "kernelspec": {
   "display_name": "Python 3.7.7 64-bit ('venv': venv)",
   "language": "python",
   "name": "python37764bitvenvvenv5b62939097214b20b0ca6487fffe5cee"
  },
  "language_info": {
   "codemirror_mode": {
    "name": "ipython",
    "version": 3
   },
   "file_extension": ".py",
   "mimetype": "text/x-python",
   "name": "python",
   "nbconvert_exporter": "python",
   "pygments_lexer": "ipython3",
   "version": "3.7.7"
  }
 },
 "nbformat": 4,
 "nbformat_minor": 4
}
