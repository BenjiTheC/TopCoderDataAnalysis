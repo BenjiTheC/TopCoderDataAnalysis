{
 "cells": [
  {
   "cell_type": "markdown",
   "metadata": {},
   "source": [
    "# All Data Visualization\n",
    "\n",
    "> This file contains all data visualization by far\n"
   ]
  },
  {
   "cell_type": "markdown",
   "metadata": {},
   "source": [
    "\n",
    "## Number of challenges under a project\n",
    "\n",
    "![number_of_challenge_by_project](img/number_of_challenges_under_one_project.png)\n",
    "\n",
    "The two plots above visualiza the data of number of challenges under a project. The challenges data scraped from TopCoder have two data field, `challenge_id` and `project_id`. The `challenge_id` is unique identifier of a challenge. The `project_id` is unique identifier of a project. The relationship of a project and a challenge is that, _one project can have multiple challenges under it._\n",
    "\n",
    "The visulization get rid of the datapoints less than 10. Meaning that project with less than 10 challenges under it is ignored in this visualization.\n",
    "\n",
    "### Observation\n",
    "\n",
    "- Shown in histogram, the projects with no more than 60 challenges have a frequency of 243, the project with more than 60 challenges have a frequency of 26.\n",
    "\n",
    "- Shown in boxplot, the maximum data point (1.5 times of distance of IQR) is less than 60. The density of outliers in the range of 60 - aprox 80 is higher.\n",
    "\n",
    "### Analysis.\n",
    "\n",
    "The majority of data points falls into range of less than 60. While the density of projects with 60 to 100 challenges is apprently large than the density of projects with more than 100 challenges.\n",
    "\n",
    "If we segregate the dataset into three tiers based on the level of adaptiveness of Crowd Source dev:\n",
    "\n",
    "1. **Early adpater**: Projects with less than 60 challenges.\n",
    "2. **Entrance level**: Projects with number of challenges between 60 to 100.\n",
    "3. **Mature user**: Project with number of challenges over 100.\n",
    "\n",
    "Based on this aggregation, it could be worth of effort to look into the requirements/complexity analysis of challenges respectively on different tiers.\n",
    "\n",
    "**It can also be discovering to plot the scatter of projects based on start date of project (eariliest challenges)**.\n",
    "\n",
    "If we can find pattern of challenges requriements complexity from the 3-tier separation, it will be great.\n",
    "\n"
   ]
  },
  {
   "cell_type": "markdown",
   "metadata": {},
   "source": [
    "## Challenges by tracks in a timelapse\n",
    "\n",
    "![alt text](img/number_and_prize_of_challenges_posted_by_month.png)\n",
    "\n",
    "> These two plots are showing same data in different grouping\n",
    "\n",
    "![alt text](img/number_and_prize_of_challenges_by_track.png)\n",
    "\n",
    "\n",
    "On TopCoder.com, each challenges has a registration start time, which is the time stamp for the start of a challenge. We plot the trend of challenges number and total prize on a time axis.\n",
    "\n",
    "### Observation\n",
    "\n",
    "- The prize per challenge of data science track is ridiculously high comparing to develop and design tracks' challenges.\n",
    "- Starting from Jan 2018, challenges in develop track had a spike on total prize, whereas challenges in design track had the total prize fell down\n",
    "- The difference of number of challenges every month in develop and design track fluctuates between 50 - 300 from 2014 to 2019.\n",
    "- Not until 2019 has the prize per challenge in develop track surpassed the design track in some of the months. Despite of less number of challenges and total prize, the prize per challenge in design trask has been constantly higher than develop track.\n",
    "\n",
    "### Analysis\n",
    "\n",
    "- The pricing pattern and complexity in Data Science should be picked out and analyze further to explore the reason why prize per challenge is so high. This may potentially indicate that the complexity in data science is gernerally higher than the other two tracks and hopefully it can link to the requirement's complexity learning. **This can be potentially done by doing a topic modeling with technology terms by challenges**.\n",
    "- Same thing in design vs develop track. Why the prize per challenge in design is almost always higher than develop track regardless of the fact that develop track challenges dominate the number of challenges posted every month."
   ]
  },
  {
   "cell_type": "markdown",
   "metadata": {},
   "source": [
    "## Number of challenges in develop track by subtracks - 0\n",
    "\n",
    "![alt text](img/number_of_dev_cha_by_subtrack.png)\n",
    "\n",
    "We pick out the data of challenges in develop track and group them by subtrack. The bar plot above shows the summary of number of challenges by subtrack.\n",
    "\n",
    "### Observation\n",
    "\n",
    "- Firt To Finsh and Code substracks takes up to 82.7% of challenges in develop track\n",
    "- Except for First to Finish and Code subtracks, the Assembly Competition, UI Prototype, Bug Hunt also have more than 100 respectively\n",
    "\n",
    "### Analysis\n",
    "\n",
    "- An hyposis that worth of digging is that, **is there any challenge in F2F and Code that's mistakenly labelled?** e.g. Some of the Bug Hunt(testing) challenges were labelled into F2F. We should go into the requirement details to figure pick out the challenges that have testing key word in it but tagged as other subtracks."
   ]
  },
  {
   "cell_type": "markdown",
   "metadata": {},
   "source": [
    "## Number of challenges in develop track by subtracks - 1\n",
    "\n",
    "![alt text](img/num_prz_of_codef2f_cha.png)\n",
    "\n",
    "We pick out the F2F and Code challenges to plot the number of challenges started every month, subtracks with more than 100 challenges to plot the cumulative summary.\n",
    "\n",
    "### Observation\n",
    "\n",
    "- Before the middle of 2015, number of chalenges each month in F2F was way higher than code. After the middle of 2015, the number of challenges in the two subtracks kept a roughly equal volumn.\n",
    "- During the late 2017 to early 2019, the prize per challenge of F2F subtrack fluctuate heavily above the normal baseline of the prize.\n",
    "- **The August of 2014**, the prize per challenge of CODE subtrack drastically higher than the F2F subtrack.\n",
    "- Except for the year of 2018 (late 2017 - early 2019), the prize per challenge of CODE subtrack is steadily higher than the F2F subtrack.\n",
    "- The cumulative summary number of challenges in F2F subtrack is steadily higher than the CODE subtrack.\n",
    "- The cumulative summary prize of challenges in F2F subtrack is way lower than the CODE subtrack.\n",
    "\n",
    "\n",
    "### Analysis\n",
    "\n",
    "- A preprocessing focusing on de-noising the data will be necessary - making sure that the challenges in Code subtrack have no testing and challenges in Bug Hunt subtrack have no coding.\n",
    "- It noteworthy that the prize per challenge fluctuation of F2F subtrack in the late 2017 to early 2019. One possibility is that **a project that purposely raise the prize to attract competitive worker and improve quality of result initiate challenges every other month**. Further verification awaits for the closer analysis of challenges.\n"
   ]
  },
  {
   "cell_type": "markdown",
   "metadata": {},
   "source": [
    "![alt text](img/reg_by_prz_dev.png)"
   ]
  },
  {
   "cell_type": "markdown",
   "metadata": {},
   "source": [
    "![alt text](img/registrants_by_prize_scatter.png)"
   ]
  },
  {
   "cell_type": "markdown",
   "metadata": {},
   "source": [
    "![alt text](img/technologies_count_and_distro.png)"
   ]
  },
  {
   "cell_type": "markdown",
   "metadata": {
    "tags": []
   },
   "source": [
    "![alt text](img/filtered_dev_cha_by_subtrack.png)\n",
    "\n",
    "![alt text](img/prize_distribution_by_subtrack.png)\n",
    "\n",
    "![alt text](img/pm012_results.png)\n",
    "\n",
    "![alt text](img/pm012_results_comparison.png)\n",
    "\n",
    "![alt text](img/pm012_dev_track_comparison.png)\n",
    "\n",
    "![alt text](img/regression_models_accuracy.png)\n",
    "\n",
    "![alt text](img/pairing_cha_model_mmre.png)"
   ]
  },
  {
   "cell_type": "code",
   "execution_count": null,
   "metadata": {},
   "outputs": [],
   "source": []
  }
 ],
 "metadata": {
  "kernelspec": {
   "display_name": "Python (Data Analysis)",
   "language": "python",
   "name": "data_analysis"
  },
  "language_info": {
   "codemirror_mode": {
    "name": "ipython",
    "version": 3
   },
   "file_extension": ".py",
   "mimetype": "text/x-python",
   "name": "python",
   "nbconvert_exporter": "python",
   "pygments_lexer": "ipython3",
   "version": "3.7.8"
  }
 },
 "nbformat": 4,
 "nbformat_minor": 4
}
