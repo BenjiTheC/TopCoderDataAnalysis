{
 "cells": [
  {
   "cell_type": "code",
   "execution_count": 1,
   "metadata": {},
   "outputs": [],
   "source": [
    "\"\"\" KNN for pricing model prediction\n",
    "    X: doc-vec appending metadata\n",
    "    y: prize\n",
    "\"\"\"\n",
    "\n",
    "import os\n",
    "import json\n",
    "\n",
    "import numpy as np\n",
    "import pandas as pd\n",
    "\n",
    "from sklearn.neighbors import KNeighborsClassifier\n",
    "from sklearn.preprocessing import LabelEncoder\n",
    "from sklearn.model_selection import KFold\n",
    "\n",
    "from tc_main import TopCoder"
   ]
  },
  {
   "cell_type": "code",
   "execution_count": 2,
   "metadata": {},
   "outputs": [
    {
     "name": "stderr",
     "output_type": "stream",
     "text": [
      "/Users/benjamin/Documents/Academy/SSW900/code/DataAnalysis/venv/lib/python3.7/site-packages/bs4/__init__.py:312: UserWarning: \"..\" looks like a filename, not markup. You should probably open this file and pass the filehandle into Beautiful Soup.\n",
      "  ' Beautiful Soup.' % self._decode_markup(markup)\n"
     ]
    }
   ],
   "source": [
    "topcoder = TopCoder()"
   ]
  },
  {
   "cell_type": "code",
   "execution_count": 3,
   "metadata": {},
   "outputs": [],
   "source": [
    "p = os.path.join(os.curdir, 'pricing_model_0', 'develop_track', 'document_vec')\n",
    "\n",
    "actual_prize = topcoder.challenge_basic_info.total_prize\n",
    "actual_prize = actual_prize[actual_prize != 0]\n",
    "\n",
    "with open(os.path.join(p, 'document_vec_100D.json')) as f:\n",
    "    doc_vec = {int(cha_id): np.array(vec) for cha_id, vec in json.load(f).items() if int(cha_id) in actual_prize.index}"
   ]
  },
  {
   "cell_type": "code",
   "execution_count": 8,
   "metadata": {},
   "outputs": [],
   "source": [
    "def get_meta_data():\n",
    "    \"\"\" Extract metadata in the form of list of ndarray.\"\"\"\n",
    "    bi = topcoder.challenge_basic_info\n",
    "    period = (bi.submission_end_date - bi.registration_start_date).apply(lambda td: td.days)\n",
    "\n",
    "    meta_data = bi.reindex(['number_of_registration', 'number_of_submission', 'number_of_submitters'], axis=1)\n",
    "    meta_data['challenge_duation'] = period\n",
    "\n",
    "    return meta_data"
   ]
  },
  {
   "cell_type": "markdown",
   "metadata": {},
   "source": [
    "- number of platform\n",
    "- number of technologies\n",
    "- subtrack\n",
    "- "
   ]
  },
  {
   "cell_type": "code",
   "execution_count": 9,
   "metadata": {},
   "outputs": [],
   "source": [
    "md = get_meta_data()"
   ]
  },
  {
   "cell_type": "code",
   "execution_count": 10,
   "metadata": {},
   "outputs": [],
   "source": [
    "X = np.stack([np.concatenate([vec, md.loc[cha_id].to_numpy()]) for cha_id, vec in doc_vec.items()])\n",
    "y = np.array([topcoder.challenge_basic_info.total_prize[cha_id] for cha_id in doc_vec.keys()])"
   ]
  },
  {
   "cell_type": "code",
   "execution_count": 11,
   "metadata": {},
   "outputs": [
    {
     "data": {
      "text/plain": [
       "((6303, 104), (6303,))"
      ]
     },
     "execution_count": 11,
     "metadata": {},
     "output_type": "execute_result"
    }
   ],
   "source": [
    "X.shape, y.shape"
   ]
  },
  {
   "cell_type": "code",
   "execution_count": 12,
   "metadata": {},
   "outputs": [
    {
     "data": {
      "text/plain": [
       "LabelEncoder()"
      ]
     },
     "execution_count": 12,
     "metadata": {},
     "output_type": "execute_result"
    }
   ],
   "source": [
    "le = LabelEncoder()\n",
    "le.fit(y)"
   ]
  },
  {
   "cell_type": "code",
   "execution_count": 13,
   "metadata": {
    "tags": [
     "outputPrepend"
    ]
   },
   "outputs": [
    {
     "name": "stdout",
     "output_type": "stream",
     "text": [
      "Mean of MRE: 3.2519959040103776, median of MRE: 0.6666666666666666\n",
      "Mean of MRE: 4.488133317941047, median of MRE: 0.5\n",
      "Mean of MRE: 1.467513249360007, median of MRE: 0.5\n",
      "Mean of MRE: 4.922231256805037, median of MRE: 0.5\n",
      "Mean of MRE: 4.686933800399695, median of MRE: 0.6\n",
      "Mean of MRE: 1.2550600559441845, median of MRE: 0.5\n",
      "Mean of MRE: 2.2063138197880887, median of MRE: 0.5\n",
      "Mean of MRE: 4.62939132121736, median of MRE: 0.5571895424836601\n",
      "Mean of MRE: 6.153506858313887, median of MRE: 0.5118796992481203\n",
      "Mean of MRE: 3.521391328088157, median of MRE: 0.5634920634920635\n",
      "\n",
      "Average of Mean MRE: 3.6582470911867846\n",
      "Average of Median MRE: 0.539922797189051\n"
     ]
    }
   ],
   "source": [
    "kf = KFold(n_splits=10)\n",
    "cha_ids = list(doc_vec.keys())\n",
    "result_mean = []\n",
    "result_median = []\n",
    "for train, test in kf.split(X):\n",
    "    X_train, X_test, y_train, y_test = X[train], X[test], y[train], y[test]\n",
    "\n",
    "    knn_clf = KNeighborsClassifier(n_neighbors=10, weights='distance')\n",
    "    knn_clf.fit(X_train, le.transform(y_train))\n",
    "\n",
    "    y_predict = le.inverse_transform(knn_clf.predict(X_test))\n",
    "\n",
    "    mres = np.absolute(y_test - y_predict) / y_test\n",
    "    result_mean.append(mres.mean())\n",
    "    result_median.append(np.median(mres))\n",
    "    print(f'Mean of MRE: {mres.mean()}, median of MRE: {np.median(mres)}')\n",
    "\n",
    "print(f'\\nAverage of Mean MRE: {sum(result_mean) / len(result_mean)}\\nAverage of Median MRE: {sum(result_median) / len(result_median)}')"
   ]
  },
  {
   "cell_type": "code",
   "execution_count": 14,
   "metadata": {},
   "outputs": [],
   "source": [
    "# knn_clf = KNeighborsClassifier(n_neighbors=10, weights='distance')\n",
    "# knn_clf.fit(X, le.transform(y))"
   ]
  },
  {
   "cell_type": "code",
   "execution_count": null,
   "metadata": {},
   "outputs": [],
   "source": []
  }
 ],
 "metadata": {
  "kernelspec": {
   "display_name": "Python 3.7.7 64-bit ('venv': venv)",
   "language": "python",
   "name": "python37764bitvenvvenv5b62939097214b20b0ca6487fffe5cee"
  },
  "language_info": {
   "codemirror_mode": {
    "name": "ipython",
    "version": 3
   },
   "file_extension": ".py",
   "mimetype": "text/x-python",
   "name": "python",
   "nbconvert_exporter": "python",
   "pygments_lexer": "ipython3",
   "version": "3.7.7"
  }
 },
 "nbformat": 4,
 "nbformat_minor": 4
}
