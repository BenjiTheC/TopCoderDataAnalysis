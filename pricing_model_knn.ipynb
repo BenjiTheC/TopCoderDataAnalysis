{
 "cells": [
  {
   "cell_type": "code",
   "execution_count": null,
   "metadata": {},
   "outputs": [],
   "source": [
    "\"\"\" KNN for pricing model prediction\n",
    "    X: doc-vec appending metadata\n",
    "    y: prize\n",
    "\"\"\"\n",
    "\n",
    "import os\n",
    "import json\n",
    "from collections import defaultdict\n",
    "\n",
    "import numpy as np\n",
    "import pandas as pd\n",
    "\n",
    "from matplotlib import pyplot as plt\n",
    "import seaborn as sns\n",
    "\n",
    "from sklearn.neighbors import KNeighborsClassifier\n",
    "from sklearn.preprocessing import LabelEncoder\n",
    "from sklearn.model_selection import KFold\n",
    "\n",
    "from tc_main import TopCoder"
   ]
  },
  {
   "cell_type": "code",
   "execution_count": null,
   "metadata": {
    "scrolled": true
   },
   "outputs": [],
   "source": [
    "topcoder = TopCoder()"
   ]
  },
  {
   "cell_type": "code",
   "execution_count": null,
   "metadata": {},
   "outputs": [],
   "source": [
    "dev_df = topcoder.challenge_basic_info.loc[(topcoder.challenge_basic_info.total_prize < 5000) & (topcoder.challenge_basic_info.track == 'DEVELOP')]\n",
    "idices = list(dev_df.subtrack.value_counts().head(5).index)"
   ]
  },
  {
   "cell_type": "code",
   "execution_count": null,
   "metadata": {},
   "outputs": [],
   "source": [
    "dev_df.subtrack.value_counts()"
   ]
  },
  {
   "cell_type": "code",
   "execution_count": null,
   "metadata": {
    "scrolled": false
   },
   "outputs": [],
   "source": [
    "\n",
    "with sns.axes_style('darkgrid'):\n",
    "    fig = plt.figure(figsize=(6, 6), dpi=200)\n",
    "    ax = fig.add_axes([0.2, 0.2, 0.8, 0.8])\n",
    "\n",
    "    sns.violinplot(\n",
    "        data=topcoder.challenge_basic_info.loc[(0 < topcoder.challenge_basic_info.total_prize) & (topcoder.challenge_basic_info.total_prize < 5000) & (topcoder.challenge_basic_info.subtrack.isin(idices))],\n",
    "        x=topcoder.challenge_basic_info.subtrack[topcoder.challenge_basic_info.subtrack.isin(idices)].astype('string'),\n",
    "        y='total_prize',\n",
    "        linewidth=0.8,\n",
    "        ax=ax\n",
    "    )\n",
    "    sns.despine(ax=ax)\n",
    "    \n",
    "    labels = ['\\n'.join(i.get_text().lower().split('_')) for i in ax.get_xticklabels()]\n",
    "    ax.set_xticklabels(labels=labels)\n",
    "    "
   ]
  },
  {
   "cell_type": "markdown",
   "metadata": {},
   "source": [
    "- the subtrack `code`: get rid of extreme prize - prize too high can be mis-labeled.\n",
    "- the subtrack `first-2-finish`: get rid of extreme prize above 1000\n",
    "\n",
    "Handpick a F2F task - that is overprized can be mislabeled"
   ]
  },
  {
   "cell_type": "markdown",
   "metadata": {},
   "source": [
    "The KNN model results are stored in the files of name pattern `knn_pricing_model_measure_*.json`, for now, there are 3 different results based on the way training vectors is constructed.\n",
    "\n",
    "- 0: The document vector from `pricing_model_0` is used directly as input `X`\n",
    "- 1: The document vector from `pricing_model_0` appending the vector [`number_of_platforms`, `number_of_technologies`, `challenge_duration`] is used as input `X`\n",
    "- 2: The document vector from `pricing_model_0` appending the vector [`track`, `subtrack`, `number_of_platforms`, `number_of_technologies`, `challenge_duration`] is used as input `X`"
   ]
  },
  {
   "cell_type": "code",
   "execution_count": null,
   "metadata": {},
   "outputs": [],
   "source": [
    "knn_measures = {}\n",
    "\n",
    "for i in range(3):\n",
    "    with open(os.path.join(os.curdir, 'pricing_model_3', f'knn_pricing_model_measure_{i}.json')) as f:\n",
    "        knn_measure_dct = {track: {int(dimension): result['Mean_MRE'] for dimension, result in d.items()} for track, d in json.load(f).items()}\n",
    "\n",
    "        knn_measures[i] = pd.DataFrame([dict(track=track, dimension=dimension, model=i, mmre=mmre) for track, d in knn_measure_dct.items() for dimension, mmre in d.items()])\n",
    "        \n",
    "        "
   ]
  },
  {
   "cell_type": "code",
   "execution_count": null,
   "metadata": {
    "scrolled": false
   },
   "outputs": [],
   "source": [
    "track_df = pd.concat([df.loc[df.track == 'develop'] for df in knn_measures.values()])\n",
    "\n",
    "with sns.axes_style('darkgrid'):\n",
    "    fig, axes = plt.subplots(3, 1, figsize=(9, 9), dpi=200)\n",
    "    \n",
    "    for i, track in enumerate(('all', 'develop', 'design')):\n",
    "        track_df = pd.concat([df.loc[df.track == track] for df in knn_measures.values()])\n",
    "        ax = axes[i]\n",
    "        \n",
    "        sns.lineplot(\n",
    "            data=track_df,\n",
    "            x='dimension',\n",
    "            y='mmre',\n",
    "            hue='model',\n",
    "            style='model',\n",
    "            palette='deep',\n",
    "            markers=['o'] * 3,\n",
    "            markersize=4,\n",
    "            ax=ax\n",
    "        )\n",
    "        \n",
    "        ax.set_title(f'KNN model trainig results - {track.upper()} track')\n",
    "        \n",
    "    fig.tight_layout()"
   ]
  },
  {
   "cell_type": "markdown",
   "metadata": {},
   "source": [
    "- Clean the price that are too high - only prize < 5000\n",
    "\n",
    "- **BERT to detect contect representation.** \n",
    "- LSTM - softmax\n",
    "  - fit the context by group of challenges / project of challenges | size of data"
   ]
  },
  {
   "cell_type": "code",
   "execution_count": null,
   "metadata": {},
   "outputs": [],
   "source": []
  }
 ],
 "metadata": {
  "kernelspec": {
   "display_name": "Python 3.7.7 64-bit ('venv': venv)",
   "language": "python",
   "name": "python37764bitvenvvenv5b62939097214b20b0ca6487fffe5cee"
  },
  "language_info": {
   "codemirror_mode": {
    "name": "ipython",
    "version": 3
   },
   "file_extension": ".py",
   "mimetype": "text/x-python",
   "name": "python",
   "nbconvert_exporter": "python",
   "pygments_lexer": "ipython3",
   "version": "3.7.7"
  }
 },
 "nbformat": 4,
 "nbformat_minor": 4
}
