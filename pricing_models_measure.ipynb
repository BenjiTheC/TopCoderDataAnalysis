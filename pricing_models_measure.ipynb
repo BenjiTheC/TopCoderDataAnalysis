{
 "cells": [
  {
   "cell_type": "markdown",
   "metadata": {},
   "source": [
    "# Pricing Models 0, 1, 2, 3 Measurement\n",
    "\n",
    "Besides the first pricing model (`pricing_model_0`) that train word2vec with full corpus and find 10 most similar challenge and taken average of their prizes as estimate. I've build 3 more pricing models:\n",
    "\n",
    "1. Training word2vec model with **_corpus that deletes overlap sections_**, then find 10 most similar challenge and take average of their prizes as estimate\n",
    "2. Training word2vec model with **_corpus that detects phrases (more than one word)_**, then find 10 most similar challenge and take average of their prizes as estimate\n",
    "3. Training K-Near Neighboors model with:\n",
    "   - X: document vectors calculated from pricing_model_0 appending meta data of challenges\n",
    "   - y: actual total prize\n",
    "\n",
    "Here below I will demonstrate the result."
   ]
  },
  {
   "cell_type": "code",
   "execution_count": null,
   "metadata": {},
   "outputs": [],
   "source": [
    "import os\n",
    "import json\n",
    "from collections import defaultdict\n",
    "\n",
    "import numpy as np\n",
    "import pandas as pd\n",
    "\n",
    "from matplotlib import pyplot as plt\n",
    "import seaborn as sns\n",
    "\n",
    "pd.set_option('display.max_rows', 150)\n",
    "\n",
    "MODELS = range(3)\n",
    "TRACKS = ('all', 'develop', 'design')\n",
    "DIMENSIONS = range(100, 1100, 100)"
   ]
  },
  {
   "cell_type": "code",
   "execution_count": null,
   "metadata": {},
   "outputs": [],
   "source": [
    "pm_measure_dfs = defaultdict(lambda: defaultdict(dict))\n",
    "\n",
    "for model in MODELS:\n",
    "    for track in TRACKS:\n",
    "        for dimension in DIMENSIONS:\n",
    "            with open(os.path.join(os.curdir, f'pricing_model_{model}', f'{track}_track', 'measures', f'measure_{dimension}D.json')) as f:\n",
    "                pm_measure_dfs[model][track][dimension] = pd.read_json(f, orient='records').set_index('index')\n"
   ]
  },
  {
   "cell_type": "code",
   "execution_count": null,
   "metadata": {},
   "outputs": [],
   "source": [
    "MMRE = []\n",
    "for model in MODELS:\n",
    "    for track in TRACKS:\n",
    "        for dimension in DIMENSIONS:\n",
    "            MMRE.append(dict(track=track, dimension=dimension, model=model, mmre=pm_measure_dfs[model][track][dimension]['MRE'].mean()))\n",
    "\n",
    "mmre_df = pd.DataFrame(MMRE)"
   ]
  },
  {
   "cell_type": "markdown",
   "metadata": {},
   "source": [
    "The Mean MRE by track and dimension is shown below"
   ]
  },
  {
   "cell_type": "code",
   "execution_count": null,
   "metadata": {},
   "outputs": [],
   "source": [
    "title_text = [\n",
    "    'Word2Vec from Full corpus',\n",
    "    'Word2Vec from No Overlap corpus',\n",
    "    'Word2Vec from phrases detected corpus'\n",
    "]\n",
    "\n",
    "with sns.axes_style('darkgrid'):\n",
    "    fig, axes = plt.subplots(3, 1, figsize=(9, 9), dpi=200)\n",
    "\n",
    "    for model in MODELS:\n",
    "        ax = axes[model]\n",
    "\n",
    "        sns.lineplot(\n",
    "            data=mmre_df.loc[mmre_df.model == model],\n",
    "            x='dimension',\n",
    "            y='mmre',\n",
    "            hue='track',\n",
    "            style='track',\n",
    "            palette='deep',\n",
    "            linewidth=0.618,\n",
    "            markers=['o', 'o', 'o'],\n",
    "            markersize=4,\n",
    "            ax=ax\n",
    "        )\n",
    "\n",
    "        handles, labels = ax.get_legend_handles_labels()\n",
    "        ax.legend(handles, labels, prop={'size': 8})\n",
    "\n",
    "        ax.set_xticks(list(range(100, 1100, 100)))\n",
    "        ax.set_xticklabels(labels=list(range(100, 1100, 100)))\n",
    "        ax.set_ylim(top=7, bottom=0)\n",
    "        ax.set_yticks(list(range(7)))\n",
    "        ax.set_yticklabels(labels=list(range(7)))\n",
    "\n",
    "        ax.set_xlabel('Dimensionality of document vectors')\n",
    "        ax.set_ylabel('Mean MRE')\n",
    "        ax.set_title(f'Pricing model {model} - {title_text[model]}')\n",
    "\n",
    "    fig.tight_layout()"
   ]
  },
  {
   "cell_type": "markdown",
   "metadata": {},
   "source": [
    "Unexpectedly, with the removal of overlap sections and phrases detected. **The accuracy of the pricing models decrease.**\n",
    "\n",
    "This result is against the assumption I made that with the refinement of the input corpus, the accuracy will increase.\n",
    "\n",
    "> Note: All three models have removed the stop words from the cropus\n",
    "\n",
    "To better demo the decreasement of models. I plot the MREs by track in different model below."
   ]
  },
  {
   "cell_type": "code",
   "execution_count": null,
   "metadata": {},
   "outputs": [],
   "source": [
    "with sns.axes_style('darkgrid'):\n",
    "    fig, axes = plt.subplots(3, 1, figsize=(9, 9), dpi=200)\n",
    "\n",
    "    for idx, track in enumerate(TRACKS):\n",
    "        ax = axes[idx]\n",
    "        sns.lineplot(\n",
    "            data=mmre_df.loc[mmre_df.track == track],\n",
    "            x='dimension',\n",
    "            y='mmre',\n",
    "            hue='model',\n",
    "            style='model',\n",
    "            palette='deep',\n",
    "            linewidth=0.618,\n",
    "            markers=['o', 'o', 'o'],\n",
    "            markersize=4,\n",
    "            ax=ax\n",
    "        )\n",
    "\n",
    "        handles, labels = ax.get_legend_handles_labels()\n",
    "        ax.legend(handles, labels, prop={'size': 8})\n",
    "\n",
    "        ax.set_xticks(list(range(100, 1100, 100)))\n",
    "        ax.set_xticklabels(labels=list(range(100, 1100, 100)))\n",
    "        # ax.set_ylim(top=7, bottom=0)\n",
    "        # ax.set_yticks(list(range(7)))\n",
    "        # ax.set_yticklabels(labels=list(range(7)))\n",
    "\n",
    "        ax.set_xlabel('Dimensionality of document vectors')\n",
    "        ax.set_ylabel('Mean MRE')\n",
    "        ax.set_title(f'Pricing model MMRE - {track.upper()} track')\n",
    "\n",
    "    fig.tight_layout()"
   ]
  },
  {
   "cell_type": "markdown",
   "metadata": {},
   "source": [
    "## KNN algorithm result\n",
    "\n",
    "I trained the KNN model by using concatenation of metadata of challenges and document vectors from pm0 as input `X` and actual prize as input `y` and run 10-fold cross validation to assess the model. The mean MRE is rather positive."
   ]
  },
  {
   "cell_type": "code",
   "execution_count": null,
   "metadata": {},
   "outputs": [],
   "source": [
    "with open(os.path.join(os.curdir, 'pricing_model_3', 'knn_pricing_model_measure.json')) as fread:\n",
    "    pm4_data = json.load(fread)\n",
    "\n",
    "pm4_measure_dct = {track: {int(dimension): result['Mean_MRE'] for dimension, result in d.items()} for track, d in pm4_data.items()}\n",
    "\n",
    "pm4_measure_df = pd.DataFrame([dict(track=track, dimension=dimension, model=3, mmre=mmre) for track, d in pm4_measure_dct.items() for dimension, mmre in d.items()])\n",
    "\n",
    "mmre_df = mmre_df.append(pm4_measure_df).reset_index(drop=True)"
   ]
  },
  {
   "cell_type": "markdown",
   "metadata": {},
   "source": [
    "Comparing to the pricing model 0, which is based on text mining and analogy estimation, the KNN approach has a rather obivious performance boost."
   ]
  },
  {
   "cell_type": "code",
   "execution_count": null,
   "metadata": {},
   "outputs": [],
   "source": [
    "sub_mmre_df = mmre_df.loc[mmre_df.model.isin((0, 3))].reset_index(drop=True)\n",
    "\n",
    "with sns.axes_style('darkgrid'):\n",
    "    fig, axes = plt.subplots(3, 1, figsize=(9, 9), dpi=200)\n",
    "\n",
    "    for idx, track in enumerate(TRACKS):\n",
    "        ax = axes[idx]\n",
    "        sns.lineplot(\n",
    "            data=sub_mmre_df.loc[sub_mmre_df.track == track],\n",
    "            x='dimension',\n",
    "            y='mmre',\n",
    "            hue='model',\n",
    "            style='model',\n",
    "            palette='deep',\n",
    "            linewidth=0.618,\n",
    "            markers=['o', 'o'],\n",
    "            markersize=4,\n",
    "            ax=ax\n",
    "        )\n",
    "\n",
    "        handles, labels = ax.get_legend_handles_labels()\n",
    "        ax.legend(handles, labels, prop={'size': 8})\n",
    "\n",
    "        ax.set_xticks(list(range(100, 1100, 100)))\n",
    "        ax.set_xticklabels(labels=list(range(100, 1100, 100)))\n",
    "\n",
    "        ax.set_xlabel('Dimensionality of document vectors')\n",
    "        ax.set_ylabel('Mean MRE')\n",
    "        ax.set_title(f'Pricing model MMRE - {track.upper()} track')\n",
    "\n",
    "    fig.tight_layout()"
   ]
  },
  {
   "cell_type": "markdown",
   "metadata": {},
   "source": [
    "**What next?**\n",
    "\n",
    "1. I've been trying the paragraph vector (`gensim.models.Doc2Vec`) as another approach to the document vector, but the computing resource required is too large, it will take some time.\n",
    "\n",
    "2. Add more meta data dimensions. *\n",
    "\n",
    "3. relation between subtrack and prize\n",
    "  - violin plot\n",
    "  \n",
    "_Size_ and _Workload_ relation\n",
    "\n",
    "raw dataset could be discrete."
   ]
  },
  {
   "cell_type": "code",
   "execution_count": null,
   "metadata": {},
   "outputs": [],
   "source": []
  }
 ],
 "metadata": {
  "kernelspec": {
   "display_name": "Python 3.7.7 64-bit ('venv': venv)",
   "language": "python",
   "name": "python37764bitvenvvenv5b62939097214b20b0ca6487fffe5cee"
  },
  "language_info": {
   "codemirror_mode": {
    "name": "ipython",
    "version": 3
   },
   "file_extension": ".py",
   "mimetype": "text/x-python",
   "name": "python",
   "nbconvert_exporter": "python",
   "pygments_lexer": "ipython3",
   "version": "3.7.7-final"
  }
 },
 "nbformat": 4,
 "nbformat_minor": 2
}