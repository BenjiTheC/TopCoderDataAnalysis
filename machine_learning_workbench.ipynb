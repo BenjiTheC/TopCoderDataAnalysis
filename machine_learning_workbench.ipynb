{
 "cells": [
  {
   "cell_type": "code",
   "execution_count": null,
   "metadata": {},
   "outputs": [],
   "source": [
    "\"\"\" This notebook is for all the experiments of machine learning\"\"\"\n",
    "import os\n",
    "import json\n",
    "from datetime import datetime\n",
    "\n",
    "import pandas as pd\n",
    "import numpy as np\n",
    "import matplotlib.pyplot as plt\n",
    "import seaborn as sns\n",
    "\n",
    "from sklearn.datasets import make_classification\n",
    "from sklearn.ensemble import RandomForestClassifier\n",
    "\n",
    "from imblearn.under_sampling import ClusterCentroids, RandomUnderSampler, TomekLinks, NearMiss\n",
    "from imblearn.over_sampling import SMOTE, ADASYN, RandomOverSampler"
   ]
  },
  {
   "cell_type": "code",
   "execution_count": null,
   "metadata": {},
   "outputs": [],
   "source": [
    "X, y = make_classification(\n",
    "    n_samples=100000, \n",
    "    n_classes=2,\n",
    "    n_features=72,\n",
    "    n_informative=10,\n",
    "    n_redundant=0,\n",
    "    n_repeated=0,\n",
    "    n_clusters_per_class=1,\n",
    "    weights=[0.1, 0.9],\n",
    "    random_state=0\n",
    ")"
   ]
  },
  {
   "cell_type": "code",
   "execution_count": null,
   "metadata": {},
   "outputs": [],
   "source": [
    "for resample_algo in [RandomUnderSampler, TomekLinks, NearMiss, SMOTE, ADASYN, RandomOverSampler]:\n",
    "    print(f'Resampling algorithm : {resample_algo.__name__}')\n",
    "\n",
    "    start = datetime.now()\n",
    "\n",
    "    resampler = resample_algo()\n",
    "    resampler.fit_resample(X, y)\n",
    "\n",
    "    end = datetime.now()\n",
    "    print(f'Time taken: {end - start}\\n')"
   ]
  },
  {
   "cell_type": "code",
   "execution_count": null,
   "metadata": {
    "tags": []
   },
   "outputs": [],
   "source": [
    "with sns.axes_style('darkgrid'):\n",
    "    fig = plt.figure(figsize=(6, 6), dpi=200)\n",
    "    ax = fig.add_axes([0.1, 0.1, 0.8, 0.8])\n",
    "    sns.scatterplot(\n",
    "        x=X[:, 0],\n",
    "        y=X[:, 1],\n",
    "        hue=y,\n",
    "        linewidth=0.1,\n",
    "        alpha=0.5,\n",
    "        size=1,\n",
    "        ax=ax\n",
    "    )"
   ]
  },
  {
   "cell_type": "code",
   "execution_count": null,
   "metadata": {},
   "outputs": [],
   "source": [
    "with sns.axes_style('darkgrid'):\n",
    "    fig = plt.figure(figsize=(6, 6), dpi=200)\n",
    "    ax = fig.add_axes([0.1, 0.1, 0.8, 0.8])\n",
    "    sns.scatterplot(\n",
    "        x=X_sm[:, 0],\n",
    "        y=X_sm[:, 1],\n",
    "        hue=y_sm,\n",
    "        linewidth=0.1,\n",
    "        alpha=0.5,\n",
    "        size=1,\n",
    "        ax=ax\n",
    "    )"
   ]
  },
  {
   "cell_type": "code",
   "execution_count": null,
   "metadata": {},
   "outputs": [],
   "source": []
  }
 ],
 "metadata": {
  "kernelspec": {
   "display_name": "Python 3.7.7 64-bit ('venv': venv)",
   "language": "python",
   "name": "python37764bitvenvvenv5b62939097214b20b0ca6487fffe5cee"
  },
  "language_info": {
   "codemirror_mode": {
    "name": "ipython",
    "version": 3
   },
   "file_extension": ".py",
   "mimetype": "text/x-python",
   "name": "python",
   "nbconvert_exporter": "python",
   "pygments_lexer": "ipython3",
   "version": "3.7.7"
  }
 },
 "nbformat": 4,
 "nbformat_minor": 4
}
