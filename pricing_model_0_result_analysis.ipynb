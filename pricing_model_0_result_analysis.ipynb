{
 "cells": [
  {
   "cell_type": "code",
   "execution_count": null,
   "metadata": {},
   "outputs": [],
   "source": [
    "import os\n",
    "import re\n",
    "import json\n",
    "import pickle\n",
    "\n",
    "import pandas as pd\n",
    "import numpy as np\n",
    "from collections import defaultdict\n",
    "\n",
    "import datetime\n",
    "import matplotlib.pyplot as plt\n",
    "import matplotlib.dates as mdates\n",
    "import matplotlib.transforms as mtrans\n",
    "import seaborn as sns\n",
    "\n",
    "from sklearn.linear_model import LinearRegression\n",
    "\n",
    "pd.set_option('display.max_rows', 150)"
   ]
  },
  {
   "cell_type": "code",
   "execution_count": null,
   "metadata": {},
   "outputs": [],
   "source": [
    "measure_dfs = defaultdict(dict)\n",
    "ml_models = defaultdict(dict)\n",
    "document_vec = defaultdict(dict)\n",
    "\n",
    "for track in ('all', 'develop', 'design'):\n",
    "    for dimension in range(100, 1100, 100):\n",
    "        with open(os.path.join(os.curdir, 'pricing_model_0', f'{track}_track', 'measures', f'measure_{dimension}D.json')) as f:\n",
    "            measure_dfs[track][dimension] = pd.read_json(f, orient='records').set_index('index')\n",
    "\n",
    "        with open(os.path.join(os.curdir, 'pricing_model_0', f'{track}_track', 'ml_models', f'ml_model_{dimension}D'), 'rb') as f:\n",
    "            ml_models[track][dimension] = pickle.load(f)\n",
    "\n",
    "        with open(os.path.join(os.curdir, 'pricing_model_0', f'{track}_track', 'document_vec', f'document_vec_{dimension}D.json')) as f:\n",
    "            document_vec[track][dimension] = json.load(f)\n"
   ]
  },
  {
   "cell_type": "code",
   "execution_count": null,
   "metadata": {
    "scrolled": true
   },
   "outputs": [],
   "source": [
    "ml_models['all'][200]"
   ]
  },
  {
   "cell_type": "markdown",
   "metadata": {},
   "source": [
    "Duration - vector\n",
    "Type\n",
    "Technology -> numeric\n",
    "\n"
   ]
  },
  {
   "cell_type": "code",
   "execution_count": null,
   "metadata": {
    "scrolled": false
   },
   "outputs": [],
   "source": [
    "measure_dfs['all'][200]"
   ]
  },
  {
   "cell_type": "code",
   "execution_count": null,
   "metadata": {},
   "outputs": [],
   "source": [
    "MMRE = []\n",
    "for track in ('all', 'develop', 'design'):\n",
    "    for dimension in range(100, 1100, 100):\n",
    "        \n",
    "        MMRE.extend([\n",
    "            {\n",
    "                'track': track,\n",
    "                'dimension': dimension,\n",
    "                'mmre': measure_dfs[track][dimension]['MRE'].mean(),\n",
    "                'method': 'similarity'\n",
    "            },\n",
    "            {\n",
    "                'track': track,\n",
    "                'dimension': dimension,\n",
    "                'mmre': measure_dfs[track][dimension]['LR_MRE'].mean(),\n",
    "                'method': 'linear_regression'\n",
    "            }\n",
    "        ])\n",
    "        \n",
    "mmre_df = pd.DataFrame(MMRE)"
   ]
  },
  {
   "cell_type": "code",
   "execution_count": null,
   "metadata": {
    "scrolled": true
   },
   "outputs": [],
   "source": [
    "mmre_df"
   ]
  },
  {
   "cell_type": "code",
   "execution_count": null,
   "metadata": {
    "scrolled": false
   },
   "outputs": [],
   "source": [
    "with sns.axes_style('darkgrid'):\n",
    "    fig = plt.figure(figsize=(8, 3), dpi=200)\n",
    "    ax = fig.add_axes([0.15, 0.15, 0.7, 0.7])\n",
    "    \n",
    "    sns.lineplot(\n",
    "        data=mmre_df.loc[mmre_df.method == 'similarity'],\n",
    "        x='dimension',\n",
    "        y='mmre',\n",
    "        size='track',\n",
    "        hue='track',\n",
    "        style='track',\n",
    "        style_order=['develop', 'all', 'design'],\n",
    "        sizes=[0.75, 2, 0.75],\n",
    "        markers=['o'] * 3,\n",
    "        markersize=2.8,\n",
    "        ax=ax\n",
    "    )\n",
    "    \n",
    "    ax.set_ylim(0, 6)\n",
    "    ax.set_xticks(list(range(100, 1100, 100)))\n",
    "    ax.set_xticklabels(labels=list(range(100, 1100, 100)))\n",
    "    \n",
    "    ax.set_xlabel('Dimensionality of document vectors')\n",
    "    ax.set_ylabel('Mean MRE')\n",
    "    ax.set_title('Pricing model 0 accuracy by MMRE and vector size')\n",
    "    \n",
    "#     fig.savefig(os.path.join(os.pardir, os.pardir, 'presentation', 'presentation1', 'pm0_summary.png'), dpi='figure')"
   ]
  },
  {
   "cell_type": "code",
   "execution_count": null,
   "metadata": {},
   "outputs": [],
   "source": [
    "\n",
    "with sns.axes_style('darkgrid'):\n",
    "    fig, axes = plt.subplots(3, 1, figsize=(9, 8), dpi=200)\n",
    "    \n",
    "    for idx, track in enumerate(mmre_df.track.unique()):\n",
    "        ax = axes[idx]\n",
    "        sns.lineplot(\n",
    "            data=mmre_df.loc[mmre_df.track == track],\n",
    "            x='dimension',\n",
    "            y='mmre',\n",
    "            hue='method',\n",
    "            style='method',\n",
    "            marker='o',\n",
    "            markersize=4,\n",
    "            ax=ax\n",
    "        )\n",
    "        ax.set_title(f'MMRE of {track} challenge data set')\n",
    "        ax.set_xticks(list(range(100, 1100, 100)))\n",
    "        ax.set_xticklabels(labels=list(range(100, 1100, 100)))\n",
    "        \n",
    "    fig.tight_layout()\n",
    "    \n",
    "    fig.savefig('MMRE by dimensionality.png', dpi='figure')"
   ]
  },
  {
   "cell_type": "code",
   "execution_count": null,
   "metadata": {},
   "outputs": [],
   "source": [
    "mre_by_dimension_all = pd.DataFrame.from_dict({d: measure_dfs['all'][d].MRE for d in range(100, 1100, 100)})\n",
    "mre_by_dimension_dev = pd.DataFrame.from_dict({d: measure_dfs['develop'][d].MRE for d in range(100, 1100, 100)})\n",
    "mre_by_dimension_des = pd.DataFrame.from_dict({d: measure_dfs['design'][d].MRE for d in range(100, 1100, 100)})"
   ]
  },
  {
   "cell_type": "code",
   "execution_count": null,
   "metadata": {},
   "outputs": [],
   "source": [
    "measure_dfs['all'][100].columns"
   ]
  },
  {
   "cell_type": "code",
   "execution_count": null,
   "metadata": {
    "scrolled": false
   },
   "outputs": [],
   "source": [
    "mre_by_dimension_all.describe().round(decimals=3)"
   ]
  },
  {
   "cell_type": "code",
   "execution_count": null,
   "metadata": {},
   "outputs": [],
   "source": [
    "fig = plt.figure(figsize=(11, 6), dpi=200)\n",
    "\n",
    "max_prize = 5000\n",
    "interval = 100\n",
    "\n",
    "with sns.axes_style('dark', {'xtick.bottom': True}):\n",
    "    ax = fig.add_axes([0.1, 0.1, 0.8, 0.8])\n",
    "    \n",
    "    sns.distplot(measure_dfs['all'][100].total_prize.loc[measure_dfs['all'][100].total_prize <= max_prize], bins=int(max_prize / interval), kde=False, rug=False, ax=ax)\n",
    "    \n",
    "    ax.set_xticks(list(range(0, max_prize + 1, interval)))\n",
    "    ax.set_xticklabels(labels=list(range(0, max_prize + 1, interval)), rotation=315, rotation_mode='anchor', ha='left')\n",
    "\n",
    "    for hist in ax.patches:\n",
    "        count = int(hist.get_height())\n",
    "        x = hist.get_x() + hist.get_width() / 2\n",
    "        y = hist.get_height()\n",
    "        if count != 0:\n",
    "            ax.annotate(\n",
    "                f'{count}', \n",
    "                xy=(x, y), \n",
    "                xytext=(0, 3), \n",
    "                horizontalalignment='center', \n",
    "                verticalalignment='bottom',\n",
    "                textcoords='offset points'\n",
    "            )"
   ]
  },
  {
   "cell_type": "markdown",
   "metadata": {},
   "source": [
    "The prizing frequency can reflect the sub-track under a track.\n",
    "\n",
    "- similarity in the same **sub-track**\n",
    "- Take all metadata that impact the challenge complexity into consideration\n",
    "- Meta data difference/distance between 2 challenges.\n",
    "- BERT? -> Pair up the challenges the increase the size of data set\n",
    "\n",
    "---\n",
    "\n",
    "Give a new challenge, \n",
    "\n",
    "- X: Construct multi-dimension vectors -> `word2vec` dimension + **metadata featrue**\n",
    "- y: the difference of the new challenge and the historical challenges\n",
    "\n",
    "Readability analysis\n",
    "\n",
    "> Dynamic pricing?  \n",
    "> Track the activity in the community - \n",
    "\n",
    "Focus on the accuracy of the prediction model. Build new ML models.\n",
    "\n",
    "1. Model variation -> predict number of submission & predict number of registration\n",
    "    - multi-task learning"
   ]
  },
  {
   "cell_type": "code",
   "execution_count": null,
   "metadata": {},
   "outputs": [],
   "source": [
    "fig = plt.figure(figsize=(11, 6), dpi=200)\n",
    "\n",
    "with sns.axes_style('darkgrid'):\n",
    "    ax = fig.add_axes([0.1, 0.1, 0.8, 0.8])\n",
    "    \n",
    "    colors = {'primary': '#E93C4F', 'secondary': '#FFC24A'}\n",
    "    \n",
    "    meanlineprops = {'linestyle': '--', 'linewidth': 0.5, 'color': colors['secondary']}\n",
    "    flierprops = {'marker': 'o', 'markerfacecolor': colors['primary'], 'markeredgewidth': 0.5, 'markersize': 2.5}\n",
    "    sns.boxplot(\n",
    "        data=mre_by_dimension_all, \n",
    "        showmeans=True,\n",
    "        meanline=True,\n",
    "        \n",
    "        color=colors['primary'],\n",
    "        meanprops=meanlineprops,\n",
    "        flierprops=flierprops,\n",
    "        \n",
    "        linewidth=0.8,\n",
    "        width=0.618,\n",
    "        \n",
    "        ax=ax\n",
    "    )\n",
    "    \n",
    "    ax.set_ylim((10**-2,10**3.5))\n",
    "    ax.set_yscale('log')\n",
    "    \n",
    "    ax.set_title('Distribution of challenges MRE by trained word vector dimensionality')\n",
    "    ax.set_ylabel('MRE')\n",
    "    ax.set_xlabel('Trained word vectors dimensionality')\n",
    "    \n",
    "fig.savefig('MRE_distro_by_dimension.png', dpi='figure')"
   ]
  },
  {
   "cell_type": "code",
   "execution_count": null,
   "metadata": {},
   "outputs": [],
   "source": []
  }
 ],
 "metadata": {
  "kernelspec": {
   "display_name": "Python 3.7.7 64-bit ('venv': venv)",
   "language": "python",
   "name": "python37764bitvenvvenv5b62939097214b20b0ca6487fffe5cee"
  },
  "language_info": {
   "codemirror_mode": {
    "name": "ipython",
    "version": 3
   },
   "file_extension": ".py",
   "mimetype": "text/x-python",
   "name": "python",
   "nbconvert_exporter": "python",
   "pygments_lexer": "ipython3",
   "version": "3.7.7"
  }
 },
 "nbformat": 4,
 "nbformat_minor": 4
}
